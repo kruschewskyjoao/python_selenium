{
 "cells": [
  {
   "cell_type": "code",
   "execution_count": 5,
   "metadata": {},
   "outputs": [],
   "source": [
    "from selenium.webdriver.support.ui import Select\n",
    "from selenium.webdriver.common.by import By\n",
    "from selenium import webdriver\n",
    "driver = webdriver.Chrome()"
   ]
  },
  {
   "cell_type": "code",
   "execution_count": 6,
   "metadata": {},
   "outputs": [],
   "source": [
    "driver.get('https://curso-web-scraping.pages.dev/#/desafio/1')  "
   ]
  },
  {
   "cell_type": "code",
   "execution_count": 7,
   "metadata": {},
   "outputs": [],
   "source": [
    "import json\n",
    "with open ('./desafiojson.json') as file:\n",
    "    data = json.load(file)"
   ]
  },
  {
   "cell_type": "code",
   "execution_count": 8,
   "metadata": {},
   "outputs": [],
   "source": [
    "email = driver.find_element(By.NAME, 'email')\n",
    "senha = driver.find_element(By.NAME, 'senha')"
   ]
  },
  {
   "cell_type": "code",
   "execution_count": 9,
   "metadata": {},
   "outputs": [],
   "source": [
    "import datetime\n",
    "dt = datetime.datetime.strptime(data[0]['data-de-nascimento'], '%Y-%m-%d')"
   ]
  },
  {
   "cell_type": "code",
   "execution_count": 10,
   "metadata": {},
   "outputs": [],
   "source": [
    "dia = Select(driver.find_element(By.NAME, 'dia'))\n",
    "mes = Select(driver.find_element(By.NAME, 'mes'))\n",
    "ano = Select(driver.find_element(By.NAME, 'ano'))"
   ]
  },
  {
   "cell_type": "code",
   "execution_count": 11,
   "metadata": {},
   "outputs": [],
   "source": [
    "ano.select_by_visible_text(str(dt.year))\n",
    "mes.select_by_visible_text(str(dt.month))\n",
    "dia.select_by_visible_text(str(dt.day))"
   ]
  },
  {
   "cell_type": "code",
   "execution_count": 12,
   "metadata": {},
   "outputs": [],
   "source": [
    "newsletter = driver.find_element(By.ID, 'airplane-mode')\n",
    "switch_on = True if newsletter.get_attribute('aria-checked') == 'true' else False"
   ]
  },
  {
   "cell_type": "code",
   "execution_count": 13,
   "metadata": {},
   "outputs": [],
   "source": [
    "if switch_on != data[0]['newsletter']:\n",
    "    newsletter.click()"
   ]
  },
  {
   "cell_type": "code",
   "execution_count": 14,
   "metadata": {},
   "outputs": [],
   "source": [
    "#email.submit()\n",
    "enviar = driver.find_element(By.CSS_SELECTOR, 'form button[type=\"submit\"]')\n",
    "enviar.click()"
   ]
  },
  {
   "cell_type": "markdown",
   "metadata": {},
   "source": [
    "Automatizando"
   ]
  },
  {
   "cell_type": "code",
   "execution_count": 15,
   "metadata": {},
   "outputs": [],
   "source": [
    "import time\n",
    "import json\n",
    "with open ('./desafiojson.json') as file:\n",
    "    data = json.load(file)"
   ]
  },
  {
   "cell_type": "code",
   "execution_count": 16,
   "metadata": {},
   "outputs": [],
   "source": [
    "for item in data:\n",
    "    email = driver.find_element(By.NAME, 'email')\n",
    "    senha = driver.find_element(By.NAME, 'senha')\n",
    "    email.clear()\n",
    "    senha.clear()\n",
    "\n",
    "    email.send_keys(item['email'])\n",
    "    senha.send_keys(item['senha'])\n",
    "    dt = datetime.datetime.strptime(item['data-de-nascimento'], '%Y-%m-%d')\n",
    "    dia = Select(driver.find_element(By.NAME, 'dia'))\n",
    "    mes = Select(driver.find_element(By.NAME, 'mes'))\n",
    "    ano = Select(driver.find_element(By.NAME, 'ano'))\n",
    "\n",
    "    dia.select_by_visible_text(str(dt.day))\n",
    "    mes.select_by_visible_text(str(dt.month))\n",
    "    ano.select_by_visible_text(str(dt.year))\n",
    "    newsletter = driver.find_element(By.ID, 'airplane-mode')\n",
    "    switch_on = True if newsletter.get_attribute('aria-checked') == 'true' else False\n",
    "    if switch_on != item['newsletter']:\n",
    "        newsletter.click()\n",
    "    email.submit()\n",
    "    time.sleep(2)"
   ]
  }
 ],
 "metadata": {
  "kernelspec": {
   "display_name": "venv",
   "language": "python",
   "name": "python3"
  },
  "language_info": {
   "codemirror_mode": {
    "name": "ipython",
    "version": 3
   },
   "file_extension": ".py",
   "mimetype": "text/x-python",
   "name": "python",
   "nbconvert_exporter": "python",
   "pygments_lexer": "ipython3",
   "version": "3.11.2"
  }
 },
 "nbformat": 4,
 "nbformat_minor": 2
}
