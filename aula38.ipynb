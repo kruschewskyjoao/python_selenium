{
 "cells": [
  {
   "cell_type": "code",
   "execution_count": 8,
   "metadata": {},
   "outputs": [],
   "source": [
    "from selenium import webdriver\n",
    "from selenium.webdriver.common.by import By\n",
    "from selenium.webdriver.support.wait import WebDriverWait\n",
    "from selenium.webdriver.support import expected_conditions as EC\n",
    "\n",
    "driver = webdriver.Chrome()\n",
    "driver.get(\"https://curso-web-scraping.pages.dev/#/exemplo/7\")"
   ]
  },
  {
   "cell_type": "code",
   "execution_count": 9,
   "metadata": {},
   "outputs": [],
   "source": [
    "galeria = driver.find_element(By.ID, \"galeria\")\n",
    "imagens = galeria.find_elements(By.TAG_NAME, \"img\")"
   ]
  },
  {
   "cell_type": "code",
   "execution_count": 10,
   "metadata": {},
   "outputs": [],
   "source": [
    "imagens = driver.find_elements(By.CSS_SELECTOR, \"#galeria img\")"
   ]
  },
  {
   "cell_type": "code",
   "execution_count": 11,
   "metadata": {},
   "outputs": [],
   "source": [
    "import urllib.request\n",
    "import os"
   ]
  },
  {
   "cell_type": "code",
   "execution_count": 12,
   "metadata": {},
   "outputs": [
    {
     "name": "stdout",
     "output_type": "stream",
     "text": [
      "imagem_0 https://picsum.photos/seed/YsOewZ37F/1920/1080\n",
      "imagem_1 https://picsum.photos/seed/qhhysl/1920/1080\n",
      "imagem_2 https://picsum.photos/seed/xy1kEeh/1920/1080\n",
      "imagem_3 https://picsum.photos/seed/eRThLmb/1920/1080\n",
      "imagem_4 https://picsum.photos/seed/JCH8iC8Dhq/1920/1080\n",
      "imagem_5 https://picsum.photos/seed/wClCJV8/1920/1080\n",
      "imagem_6 https://picsum.photos/seed/fWsEFf/1920/1080\n",
      "imagem_7 https://picsum.photos/seed/rgOTb0/1920/1080\n",
      "imagem_8 https://picsum.photos/seed/qCKuVIL/1920/1080\n",
      "imagem_9 https://picsum.photos/seed/eiZ7OF/1920/1080\n",
      "imagem_10 https://picsum.photos/seed/iOFvKh/1920/1080\n",
      "imagem_11 https://picsum.photos/seed/UrWj7B7h/1920/1080\n",
      "imagem_12 https://picsum.photos/seed/39furlq4LT/1920/1080\n",
      "imagem_13 https://picsum.photos/seed/KvXxE/1920/1080\n",
      "imagem_14 https://picsum.photos/seed/1zv1Xa/1920/1080\n",
      "imagem_15 https://picsum.photos/seed/1E0NvZ/1920/1080\n",
      "imagem_16 https://picsum.photos/seed/y3x4t/1920/1080\n",
      "imagem_17 https://picsum.photos/seed/jlhgPB/1920/1080\n",
      "imagem_18 https://picsum.photos/seed/iHaVkFMp/1920/1080\n",
      "imagem_19 https://picsum.photos/seed/KhxIkw6/1920/1080\n",
      "imagem_20 https://picsum.photos/seed/zfUIJhenHt/1920/1080\n",
      "imagem_21 https://picsum.photos/seed/0SEHnD/1920/1080\n",
      "imagem_22 https://picsum.photos/seed/l2O2tN6/1920/1080\n",
      "imagem_23 https://picsum.photos/seed/9aSFA0mVhD/1920/1080\n",
      "imagem_24 https://picsum.photos/seed/eiPmpcH/1920/1080\n",
      "imagem_25 https://picsum.photos/seed/MjaQvcF/1920/1080\n",
      "imagem_26 https://picsum.photos/seed/uPbc37/1920/1080\n",
      "imagem_27 https://picsum.photos/seed/ZVCpISpM/1920/1080\n",
      "imagem_28 https://picsum.photos/seed/vb7lH5xHzR/1920/1080\n",
      "imagem_29 https://picsum.photos/seed/Wa1pD/1920/1080\n"
     ]
    }
   ],
   "source": [
    "for img in imagens:\n",
    "    img_src = img.get_property(\"src\")\n",
    "    img_id = img.get_property(\"id\")\n",
    "    print(img_id, img_src)\n",
    "\n",
    "    if not os.path.exists('./imagens'):\n",
    "        os.mkdir('./imagens')\n",
    "    \n",
    "    file = img_id + '.jpg'\n",
    "    filename = os.path.join('./imagens', file)\n",
    "    urllib.request.urlretrieve(img_src, filename)"
   ]
  }
 ],
 "metadata": {
  "kernelspec": {
   "display_name": "venv",
   "language": "python",
   "name": "python3"
  },
  "language_info": {
   "codemirror_mode": {
    "name": "ipython",
    "version": 3
   },
   "file_extension": ".py",
   "mimetype": "text/x-python",
   "name": "python",
   "nbconvert_exporter": "python",
   "pygments_lexer": "ipython3",
   "version": "3.11.2"
  }
 },
 "nbformat": 4,
 "nbformat_minor": 2
}
