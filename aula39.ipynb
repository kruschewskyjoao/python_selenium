{
 "cells": [
  {
   "cell_type": "code",
   "execution_count": 59,
   "metadata": {},
   "outputs": [],
   "source": [
    "from selenium import webdriver\n",
    "from selenium.webdriver.common.by import By\n",
    "from selenium.webdriver.support.wait import WebDriverWait\n",
    "from selenium.webdriver.support import expected_conditions as EC\n",
    "\n",
    "driver = webdriver.Chrome()\n",
    "driver.get(\"https://curso-web-scraping.pages.dev/#/exemplo/8\")"
   ]
  },
  {
   "cell_type": "code",
   "execution_count": 60,
   "metadata": {},
   "outputs": [],
   "source": [
    "driver.implicitly_wait(5)"
   ]
  },
  {
   "cell_type": "code",
   "execution_count": 61,
   "metadata": {},
   "outputs": [],
   "source": [
    "tabela = driver.find_element(By.ID, 'tabela-usuarios')\n",
    "linhas = tabela.find_elements(By.CSS_SELECTOR, 'tbody tr')\n"
   ]
  },
  {
   "cell_type": "code",
   "execution_count": 62,
   "metadata": {},
   "outputs": [],
   "source": [
    "from dataclasses import dataclass\n",
    "@dataclass\n",
    "class Usuario:\n",
    "    avatar: str\n",
    "    nome: str\n",
    "    profissao: str\n",
    "    email: str\n",
    "    perfil: str\n",
    "    estado: str"
   ]
  },
  {
   "cell_type": "code",
   "execution_count": 63,
   "metadata": {},
   "outputs": [
    {
     "data": {
      "text/plain": [
       "[Usuario(avatar='https://avatars.githubusercontent.com/u/43726534', nome='Nicolas Albuquerque', profissao='Analista', email='nicolas.albuquerque66@example.net', perfil='nicolas_albuquerque', estado='Paraíba'),\n",
       " Usuario(avatar='https://cloudflare-ipfs.com/ipfs/Qmd3W5DuhgHirLHGVixi6V76LhCkZUz6pnFt5AJBiyvHye/avatar/269.jpg', nome='Cauã Nogueira Filho', profissao='Engenheiro', email='caua.nogueira@example.net', perfil='caua.nogueira', estado='Ceará'),\n",
       " Usuario(avatar='https://avatars.githubusercontent.com/u/27348372', nome='Vitória Carvalho', profissao='Designer', email='vitoria.carvalho@example.net', perfil='vitoria_carvalho', estado='Mato Grosso do Sul'),\n",
       " Usuario(avatar='https://cloudflare-ipfs.com/ipfs/Qmd3W5DuhgHirLHGVixi6V76LhCkZUz6pnFt5AJBiyvHye/avatar/438.jpg', nome='Suélen Saraiva', profissao='Administrador', email='suelen_saraiva26@example.org', perfil='suelen_saraiva', estado='Roraima'),\n",
       " Usuario(avatar='https://avatars.githubusercontent.com/u/31154338', nome='Talita Melo', profissao='Orquestrador', email='talita_melo@example.com', perfil='talita.melo1', estado='Tocantins'),\n",
       " Usuario(avatar='https://avatars.githubusercontent.com/u/52883836', nome='Sra. Núbia Xavier', profissao='Representante', email='nubia.xavier@example.org', perfil='nubia.xavier40', estado='Roraima'),\n",
       " Usuario(avatar='https://cloudflare-ipfs.com/ipfs/Qmd3W5DuhgHirLHGVixi6V76LhCkZUz6pnFt5AJBiyvHye/avatar/116.jpg', nome='César Braga', profissao='Arquiteto', email='cesar_braga@example.org', perfil='cesar.braga84', estado='Pernambuco'),\n",
       " Usuario(avatar='https://avatars.githubusercontent.com/u/1566065', nome='Pedro Henrique Braga', profissao='Coordenador', email='pedrohenrique.braga95@example.net', perfil='pedrohenrique_braga', estado='Mato Grosso'),\n",
       " Usuario(avatar='https://avatars.githubusercontent.com/u/50099500', nome='Caio Melo', profissao='Atentende', email='caio_melo92@example.com', perfil='caio.melo76', estado='Goiás'),\n",
       " Usuario(avatar='https://cloudflare-ipfs.com/ipfs/Qmd3W5DuhgHirLHGVixi6V76LhCkZUz6pnFt5AJBiyvHye/avatar/343.jpg', nome='Maria Alice Batista', profissao='Atentende', email='mariaalice_batista@example.org', perfil='mariaalice_batista', estado='Amazonas')]"
      ]
     },
     "execution_count": 63,
     "metadata": {},
     "output_type": "execute_result"
    }
   ],
   "source": [
    "registros = []\n",
    "for linha in linhas:\n",
    "    dados = linha.get_property('children')\n",
    "\n",
    "    #for dado in dados:\n",
    "     #   print(dado.text)\n",
    "    registro = Usuario(\n",
    "        avatar = dados[0].find_element(By.TAG_NAME, 'img').get_attribute('src'),\n",
    "        nome = dados[1].text,\n",
    "        profissao = dados[2].text,\n",
    "        email = dados[3].text,\n",
    "        perfil = dados[4].text,\n",
    "        estado = dados[5].text\n",
    "    )\n",
    "    registros.append(registro)\n",
    "\n",
    "registros"
   ]
  },
  {
   "cell_type": "code",
   "execution_count": 64,
   "metadata": {},
   "outputs": [],
   "source": [
    "proximo = driver.find_element(By.XPATH, '//main//button[contains(text(), \"Próxima\")]')\n",
    "proximo.click()"
   ]
  },
  {
   "cell_type": "markdown",
   "metadata": {},
   "source": [
    "automatizando"
   ]
  },
  {
   "cell_type": "code",
   "execution_count": 65,
   "metadata": {},
   "outputs": [],
   "source": [
    "def raspar_dados():\n",
    "    linhas = driver.find_elements(By.CSS_SELECTOR, '#tabela-usuarios tbody tr')\n",
    "    registros = []\n",
    "    for linha in linhas:\n",
    "        dados = linha.get_property('children')\n",
    "        registro = Usuario(\n",
    "            avatar = dados[0].find_element(By.TAG_NAME, 'img').get_attribute('src'),\n",
    "            nome = dados[1].text,\n",
    "            profissao = dados[2].text,\n",
    "            email = dados[3].text,\n",
    "            perfil = dados[4].text,\n",
    "            estado = dados[5].text\n",
    "        )\n",
    "        registros.append(registro)\n",
    "    return registros"
   ]
  },
  {
   "cell_type": "code",
   "execution_count": 66,
   "metadata": {},
   "outputs": [],
   "source": [
    "dados_da_tabela = []\n",
    "while True:\n",
    "    dados = raspar_dados()\n",
    "    dados_da_tabela.extend(dados)\n",
    "\n",
    "    try:\n",
    "        proximo = driver.find_element(By.XPATH, '//main//button[contains(text(), \"Próxima\")]')\n",
    "        proximo.click()\n",
    "    except Exception as e:\n",
    "        break"
   ]
  },
  {
   "cell_type": "code",
   "execution_count": 67,
   "metadata": {},
   "outputs": [
    {
     "data": {
      "text/plain": [
       "90"
      ]
     },
     "execution_count": 67,
     "metadata": {},
     "output_type": "execute_result"
    }
   ],
   "source": [
    "len(dados_da_tabela)"
   ]
  }
 ],
 "metadata": {
  "kernelspec": {
   "display_name": "venv",
   "language": "python",
   "name": "python3"
  },
  "language_info": {
   "codemirror_mode": {
    "name": "ipython",
    "version": 3
   },
   "file_extension": ".py",
   "mimetype": "text/x-python",
   "name": "python",
   "nbconvert_exporter": "python",
   "pygments_lexer": "ipython3",
   "version": "3.11.2"
  }
 },
 "nbformat": 4,
 "nbformat_minor": 2
}
