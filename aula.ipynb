{
 "cells": [
  {
   "cell_type": "code",
   "execution_count": 354,
   "metadata": {},
   "outputs": [
    {
     "name": "stderr",
     "output_type": "stream",
     "text": [
      "5103.79s - pydevd: Sending message related to process being replaced timed-out after 5 seconds\n"
     ]
    },
    {
     "name": "stdout",
     "output_type": "stream",
     "text": [
      "Requirement already satisfied: selenium in ./venv/lib/python3.11/site-packages (4.24.0)\n",
      "Requirement already satisfied: urllib3[socks]<3,>=1.26 in ./venv/lib/python3.11/site-packages (from selenium) (2.2.2)\n",
      "Requirement already satisfied: trio~=0.17 in ./venv/lib/python3.11/site-packages (from selenium) (0.26.2)\n",
      "Requirement already satisfied: trio-websocket~=0.9 in ./venv/lib/python3.11/site-packages (from selenium) (0.11.1)\n",
      "Requirement already satisfied: certifi>=2021.10.8 in ./venv/lib/python3.11/site-packages (from selenium) (2024.8.30)\n",
      "Requirement already satisfied: typing_extensions~=4.9 in ./venv/lib/python3.11/site-packages (from selenium) (4.12.2)\n",
      "Requirement already satisfied: websocket-client~=1.8 in ./venv/lib/python3.11/site-packages (from selenium) (1.8.0)\n",
      "Requirement already satisfied: attrs>=23.2.0 in ./venv/lib/python3.11/site-packages (from trio~=0.17->selenium) (24.2.0)\n",
      "Requirement already satisfied: sortedcontainers in ./venv/lib/python3.11/site-packages (from trio~=0.17->selenium) (2.4.0)\n",
      "Requirement already satisfied: idna in ./venv/lib/python3.11/site-packages (from trio~=0.17->selenium) (3.8)\n",
      "Requirement already satisfied: outcome in ./venv/lib/python3.11/site-packages (from trio~=0.17->selenium) (1.3.0.post0)\n",
      "Requirement already satisfied: sniffio>=1.3.0 in ./venv/lib/python3.11/site-packages (from trio~=0.17->selenium) (1.3.1)\n",
      "Requirement already satisfied: wsproto>=0.14 in ./venv/lib/python3.11/site-packages (from trio-websocket~=0.9->selenium) (1.2.0)\n",
      "Requirement already satisfied: pysocks!=1.5.7,<2.0,>=1.5.6 in ./venv/lib/python3.11/site-packages (from urllib3[socks]<3,>=1.26->selenium) (1.7.1)\n",
      "Requirement already satisfied: h11<1,>=0.9.0 in ./venv/lib/python3.11/site-packages (from wsproto>=0.14->trio-websocket~=0.9->selenium) (0.14.0)\n"
     ]
    }
   ],
   "source": [
    "!pip install selenium"
   ]
  },
  {
   "cell_type": "code",
   "execution_count": 355,
   "metadata": {},
   "outputs": [],
   "source": [
    "from selenium import webdriver\n",
    "driver = webdriver.Chrome()"
   ]
  },
  {
   "cell_type": "code",
   "execution_count": 356,
   "metadata": {},
   "outputs": [],
   "source": [
    "driver.get('https://curso-web-scraping.pages.dev/#/exemplo/1')"
   ]
  },
  {
   "cell_type": "code",
   "execution_count": 357,
   "metadata": {},
   "outputs": [],
   "source": [
    "from selenium.webdriver.common.by import By"
   ]
  },
  {
   "cell_type": "code",
   "execution_count": 358,
   "metadata": {},
   "outputs": [
    {
     "data": {
      "text/plain": [
       "'Mércia Macedo'"
      ]
     },
     "execution_count": 358,
     "metadata": {},
     "output_type": "execute_result"
    }
   ],
   "source": [
    "driver.find_element(By.ID, 'user').get_property('value')"
   ]
  },
  {
   "cell_type": "code",
   "execution_count": 359,
   "metadata": {},
   "outputs": [
    {
     "name": "stdout",
     "output_type": "stream",
     "text": [
      "\n",
      "Nome: Mércia Macedo\n",
      "Profissão: Futuro Marketing Produtor\n",
      "Signo: Capricórnio\n",
      "Gênero: Feminino\n",
      "      \n"
     ]
    }
   ],
   "source": [
    "nome = driver.find_element(By.ID, 'user').get_property('value')\n",
    "profissao = driver.find_element(By.ID, 'role').get_property('value')\n",
    "signo = driver.find_element(By.ID, 'zodiac').get_property('value')\n",
    "genero = driver.find_element(By.ID, 'gender').get_property('value')\n",
    "print(f'''\n",
    "Nome: {nome}\n",
    "Profissão: {profissao}\n",
    "Signo: {signo}\n",
    "Gênero: {genero}\n",
    "      ''')"
   ]
  },
  {
   "cell_type": "code",
   "execution_count": 360,
   "metadata": {},
   "outputs": [
    {
     "name": "stdout",
     "output_type": "stream",
     "text": [
      "\n",
      "Nome: Mércia Macedo\n",
      "Profissão: Futuro Marketing Produtor\n",
      "Signo: Capricórnio\n",
      "Gênero: Feminino\n",
      "      \n"
     ]
    }
   ],
   "source": [
    "nome = driver.find_element(By.NAME, 'fullname').get_property('value')\n",
    "profissao = driver.find_element(By.NAME, 'role').get_property('value')\n",
    "signo = driver.find_element(By.NAME, 'zodiacSign').get_property('value')\n",
    "genero = driver.find_element(By.NAME, 'genderOfBirth').get_property('value')\n",
    "print(f'''\n",
    "Nome: {nome}\n",
    "Profissão: {profissao}\n",
    "Signo: {signo}\n",
    "Gênero: {genero}\n",
    "      ''')"
   ]
  },
  {
   "cell_type": "code",
   "execution_count": 361,
   "metadata": {},
   "outputs": [
    {
     "name": "stdout",
     "output_type": "stream",
     "text": [
      "Mércia Macedo\n",
      "Futuro Marketing Produtor\n",
      "Capricórnio\n",
      "Feminino\n"
     ]
    }
   ],
   "source": [
    "inputs = driver.find_elements(By.TAG_NAME, 'input')\n",
    "for input in inputs:\n",
    "    valor = input.get_property('value')\n",
    "    print(valor)"
   ]
  },
  {
   "cell_type": "code",
   "execution_count": 362,
   "metadata": {},
   "outputs": [
    {
     "name": "stdout",
     "output_type": "stream",
     "text": [
      "Abrir menu\n",
      "CSS - ID e Classes\n",
      "CSS - Combinadores\n",
      "CSS - Filho imediato\n",
      "CSS - Irmãos\n",
      "Exemplo 1\n",
      "Exemplo 2\n",
      "Exemplo 3\n",
      "Exemplo 4\n",
      "Exemplo 5\n",
      "Exemplo 6\n",
      "Exemplo 7\n",
      "Exemplo 8\n",
      "Exemplo 9\n",
      "Exemplo 10\n",
      "Exemplo 11\n",
      "Desafio 1\n",
      "Desafio 2\n",
      "Desafio 3\n",
      "Desafio 4\n",
      "Instagram\n",
      "Facebook\n",
      "Github\n",
      "YouTube\n",
      "Telegram\n"
     ]
    }
   ],
   "source": [
    "spans = driver.find_elements(By.TAG_NAME, 'span')\n",
    "for span in spans:\n",
    "    valor = span.text\n",
    "    print(valor)"
   ]
  },
  {
   "cell_type": "markdown",
   "metadata": {},
   "source": [
    "Concatenar buscas para restringir a área de busca"
   ]
  },
  {
   "cell_type": "code",
   "execution_count": 363,
   "metadata": {},
   "outputs": [
    {
     "name": "stdout",
     "output_type": "stream",
     "text": [
      "Instagram\n",
      "Facebook\n",
      "Github\n",
      "YouTube\n",
      "Telegram\n"
     ]
    }
   ],
   "source": [
    "rede_social = driver.find_element(By.ID, 'social').find_elements(By.TAG_NAME, 'span')\n",
    "for rede in rede_social:\n",
    "    print(rede.text)"
   ]
  },
  {
   "cell_type": "code",
   "execution_count": 364,
   "metadata": {},
   "outputs": [
    {
     "data": {
      "text/plain": [
       "[<selenium.webdriver.remote.webelement.WebElement (session=\"4038b47b74c5bd02ffefccc7cd9c3492\", element=\"f.8F13BED7200151FB583AE388A612A84D.d.1ABF06C8326364C41A1E4A94A598BC7F.e.42\")>]"
      ]
     },
     "execution_count": 364,
     "metadata": {},
     "output_type": "execute_result"
    }
   ],
   "source": [
    "driver.find_elements(By.LINK_TEXT, 'Instagram')"
   ]
  },
  {
   "cell_type": "code",
   "execution_count": 365,
   "metadata": {},
   "outputs": [
    {
     "name": "stdout",
     "output_type": "stream",
     "text": [
      "Instagram\n",
      "Telegram\n"
     ]
    }
   ],
   "source": [
    "gram = driver.find_elements(By.PARTIAL_LINK_TEXT, 'gram')\n",
    "for g in gram:\n",
    "    print(g.text)"
   ]
  },
  {
   "cell_type": "code",
   "execution_count": 366,
   "metadata": {},
   "outputs": [
    {
     "name": "stdout",
     "output_type": "stream",
     "text": [
      "Instagram\n",
      "Facebook\n",
      "Github\n",
      "YouTube\n",
      "Telegram\n"
     ]
    }
   ],
   "source": [
    "links = driver.find_element(By.ID, 'social').find_elements(By.TAG_NAME, 'a')\n",
    "for link in links:\n",
    "    print(link.text)"
   ]
  },
  {
   "cell_type": "code",
   "execution_count": 367,
   "metadata": {},
   "outputs": [
    {
     "name": "stdout",
     "output_type": "stream",
     "text": [
      "Mércia Macedo\n",
      "Futuro Marketing Produtor\n",
      "Capricórnio\n",
      "Feminino\n"
     ]
    }
   ],
   "source": [
    "inputs = driver.find_elements(By.CLASS_NAME, 'styled-input')\n",
    "for input in inputs:\n",
    "    print(input.get_property('value'))"
   ]
  },
  {
   "cell_type": "code",
   "execution_count": 368,
   "metadata": {},
   "outputs": [
    {
     "name": "stdout",
     "output_type": "stream",
     "text": [
      "Capricórnio\n",
      "Feminino\n"
     ]
    }
   ],
   "source": [
    "two_inputs = driver.find_elements(By.CLASS_NAME, 'styled-input.optional-info')\n",
    "for input in two_inputs:\n",
    "    print(input.get_property('value'))"
   ]
  },
  {
   "cell_type": "markdown",
   "metadata": {},
   "source": [
    "ID \\/"
   ]
  },
  {
   "cell_type": "code",
   "execution_count": 369,
   "metadata": {},
   "outputs": [
    {
     "data": {
      "text/plain": [
       "<selenium.webdriver.remote.webelement.WebElement (session=\"4038b47b74c5bd02ffefccc7cd9c3492\", element=\"f.8F13BED7200151FB583AE388A612A84D.d.1ABF06C8326364C41A1E4A94A598BC7F.e.41\")>"
      ]
     },
     "execution_count": 369,
     "metadata": {},
     "output_type": "execute_result"
    }
   ],
   "source": [
    "driver.find_element(By.CSS_SELECTOR, 'div#social')"
   ]
  },
  {
   "cell_type": "markdown",
   "metadata": {},
   "source": [
    "CLASS"
   ]
  },
  {
   "cell_type": "code",
   "execution_count": 370,
   "metadata": {},
   "outputs": [
    {
     "name": "stdout",
     "output_type": "stream",
     "text": [
      "Mércia Macedo\n",
      "Futuro Marketing Produtor\n",
      "Capricórnio\n",
      "Feminino\n",
      "Capricórnio\n",
      "Feminino\n"
     ]
    }
   ],
   "source": [
    "all_input = driver.find_elements(By.CSS_SELECTOR, 'input.styled-input')\n",
    "for i in all_input:\n",
    "    print(i.get_property('value'))\n",
    "\n",
    "two_input = driver.find_elements(By.CSS_SELECTOR, 'input.styled-input.optional-info')\n",
    "for two in two_input:\n",
    "    print(two.get_property('value'))"
   ]
  },
  {
   "cell_type": "markdown",
   "metadata": {},
   "source": [
    "PARENTESCO"
   ]
  },
  {
   "cell_type": "code",
   "execution_count": 371,
   "metadata": {},
   "outputs": [
    {
     "data": {
      "text/plain": [
       "[<selenium.webdriver.remote.webelement.WebElement (session=\"4038b47b74c5bd02ffefccc7cd9c3492\", element=\"f.8F13BED7200151FB583AE388A612A84D.d.1ABF06C8326364C41A1E4A94A598BC7F.e.7\")>,\n",
       " <selenium.webdriver.remote.webelement.WebElement (session=\"4038b47b74c5bd02ffefccc7cd9c3492\", element=\"f.8F13BED7200151FB583AE388A612A84D.d.1ABF06C8326364C41A1E4A94A598BC7F.e.8\")>]"
      ]
     },
     "execution_count": 371,
     "metadata": {},
     "output_type": "execute_result"
    }
   ],
   "source": [
    "driver.find_elements(By.CSS_SELECTOR, 'div.relative.mx-auto input.optional-info')"
   ]
  },
  {
   "cell_type": "code",
   "execution_count": 372,
   "metadata": {},
   "outputs": [
    {
     "data": {
      "text/plain": [
       "[<selenium.webdriver.remote.webelement.WebElement (session=\"4038b47b74c5bd02ffefccc7cd9c3492\", element=\"f.8F13BED7200151FB583AE388A612A84D.d.1ABF06C8326364C41A1E4A94A598BC7F.e.42\")>,\n",
       " <selenium.webdriver.remote.webelement.WebElement (session=\"4038b47b74c5bd02ffefccc7cd9c3492\", element=\"f.8F13BED7200151FB583AE388A612A84D.d.1ABF06C8326364C41A1E4A94A598BC7F.e.44\")>,\n",
       " <selenium.webdriver.remote.webelement.WebElement (session=\"4038b47b74c5bd02ffefccc7cd9c3492\", element=\"f.8F13BED7200151FB583AE388A612A84D.d.1ABF06C8326364C41A1E4A94A598BC7F.e.45\")>,\n",
       " <selenium.webdriver.remote.webelement.WebElement (session=\"4038b47b74c5bd02ffefccc7cd9c3492\", element=\"f.8F13BED7200151FB583AE388A612A84D.d.1ABF06C8326364C41A1E4A94A598BC7F.e.46\")>,\n",
       " <selenium.webdriver.remote.webelement.WebElement (session=\"4038b47b74c5bd02ffefccc7cd9c3492\", element=\"f.8F13BED7200151FB583AE388A612A84D.d.1ABF06C8326364C41A1E4A94A598BC7F.e.43\")>]"
      ]
     },
     "execution_count": 372,
     "metadata": {},
     "output_type": "execute_result"
    }
   ],
   "source": [
    "driver.find_elements(By.CSS_SELECTOR, 'div#social > a')"
   ]
  },
  {
   "cell_type": "code",
   "execution_count": 374,
   "metadata": {},
   "outputs": [
    {
     "data": {
      "text/plain": [
       "[<selenium.webdriver.remote.webelement.WebElement (session=\"4038b47b74c5bd02ffefccc7cd9c3492\", element=\"f.8F13BED7200151FB583AE388A612A84D.d.1ABF06C8326364C41A1E4A94A598BC7F.e.2\")>]"
      ]
     },
     "execution_count": 374,
     "metadata": {},
     "output_type": "execute_result"
    }
   ],
   "source": [
    "main_container = driver.find_elements(By.CSS_SELECTOR, 'div.main-container *')\n",
    "for m in main_container:\n",
    "    print(m.tag_name, '=>', m.get_attribute('class'))"
   ]
  }
 ],
 "metadata": {
  "kernelspec": {
   "display_name": "venv",
   "language": "python",
   "name": "python3"
  },
  "language_info": {
   "codemirror_mode": {
    "name": "ipython",
    "version": 3
   },
   "file_extension": ".py",
   "mimetype": "text/x-python",
   "name": "python",
   "nbconvert_exporter": "python",
   "pygments_lexer": "ipython3",
   "version": "3.11.2"
  }
 },
 "nbformat": 4,
 "nbformat_minor": 2
}
