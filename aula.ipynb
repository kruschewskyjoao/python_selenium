{
 "cells": [
  {
   "cell_type": "code",
   "execution_count": 809,
   "metadata": {},
   "outputs": [
    {
     "name": "stdout",
     "output_type": "stream",
     "text": [
      "Requirement already satisfied: selenium in ./venv/lib/python3.11/site-packages (4.24.0)\n",
      "Requirement already satisfied: urllib3[socks]<3,>=1.26 in ./venv/lib/python3.11/site-packages (from selenium) (2.2.2)\n",
      "Requirement already satisfied: trio~=0.17 in ./venv/lib/python3.11/site-packages (from selenium) (0.26.2)\n",
      "Requirement already satisfied: trio-websocket~=0.9 in ./venv/lib/python3.11/site-packages (from selenium) (0.11.1)\n",
      "Requirement already satisfied: certifi>=2021.10.8 in ./venv/lib/python3.11/site-packages (from selenium) (2024.8.30)\n",
      "Requirement already satisfied: typing_extensions~=4.9 in ./venv/lib/python3.11/site-packages (from selenium) (4.12.2)\n",
      "Requirement already satisfied: websocket-client~=1.8 in ./venv/lib/python3.11/site-packages (from selenium) (1.8.0)\n",
      "Requirement already satisfied: attrs>=23.2.0 in ./venv/lib/python3.11/site-packages (from trio~=0.17->selenium) (24.2.0)\n",
      "Requirement already satisfied: sortedcontainers in ./venv/lib/python3.11/site-packages (from trio~=0.17->selenium) (2.4.0)\n",
      "Requirement already satisfied: idna in ./venv/lib/python3.11/site-packages (from trio~=0.17->selenium) (3.8)\n",
      "Requirement already satisfied: outcome in ./venv/lib/python3.11/site-packages (from trio~=0.17->selenium) (1.3.0.post0)\n",
      "Requirement already satisfied: sniffio>=1.3.0 in ./venv/lib/python3.11/site-packages (from trio~=0.17->selenium) (1.3.1)\n",
      "Requirement already satisfied: wsproto>=0.14 in ./venv/lib/python3.11/site-packages (from trio-websocket~=0.9->selenium) (1.2.0)\n",
      "Requirement already satisfied: pysocks!=1.5.7,<2.0,>=1.5.6 in ./venv/lib/python3.11/site-packages (from urllib3[socks]<3,>=1.26->selenium) (1.7.1)\n",
      "Requirement already satisfied: h11<1,>=0.9.0 in ./venv/lib/python3.11/site-packages (from wsproto>=0.14->trio-websocket~=0.9->selenium) (0.14.0)\n"
     ]
    }
   ],
   "source": [
    "!pip install selenium"
   ]
  },
  {
   "cell_type": "code",
   "execution_count": 810,
   "metadata": {},
   "outputs": [],
   "source": [
    "from selenium import webdriver\n",
    "driver = webdriver.Chrome()"
   ]
  },
  {
   "cell_type": "code",
   "execution_count": 811,
   "metadata": {},
   "outputs": [],
   "source": [
    "driver.get('https://curso-web-scraping.pages.dev/#/exemplo/1')"
   ]
  },
  {
   "cell_type": "code",
   "execution_count": 812,
   "metadata": {},
   "outputs": [],
   "source": [
    "from selenium.webdriver.common.by import By"
   ]
  },
  {
   "cell_type": "code",
   "execution_count": 813,
   "metadata": {},
   "outputs": [
    {
     "data": {
      "text/plain": [
       "'Ígor Moraes'"
      ]
     },
     "execution_count": 813,
     "metadata": {},
     "output_type": "execute_result"
    }
   ],
   "source": [
    "driver.find_element(By.ID, 'user').get_property('value')"
   ]
  },
  {
   "cell_type": "code",
   "execution_count": 814,
   "metadata": {},
   "outputs": [
    {
     "name": "stdout",
     "output_type": "stream",
     "text": [
      "\n",
      "Nome: Ígor Moraes\n",
      "Profissão: Investidor Branding Engenheiro\n",
      "Signo: Áries\n",
      "Gênero: Masculino\n",
      "      \n"
     ]
    }
   ],
   "source": [
    "nome = driver.find_element(By.ID, 'user').get_property('value')\n",
    "profissao = driver.find_element(By.ID, 'role').get_property('value')\n",
    "signo = driver.find_element(By.ID, 'zodiac').get_property('value')\n",
    "genero = driver.find_element(By.ID, 'gender').get_property('value')\n",
    "print(f'''\n",
    "Nome: {nome}\n",
    "Profissão: {profissao}\n",
    "Signo: {signo}\n",
    "Gênero: {genero}\n",
    "      ''')"
   ]
  },
  {
   "cell_type": "code",
   "execution_count": 815,
   "metadata": {},
   "outputs": [
    {
     "name": "stdout",
     "output_type": "stream",
     "text": [
      "\n",
      "Nome: Ígor Moraes\n",
      "Profissão: Investidor Branding Engenheiro\n",
      "Signo: Áries\n",
      "Gênero: Masculino\n",
      "      \n"
     ]
    }
   ],
   "source": [
    "nome = driver.find_element(By.NAME, 'fullname').get_property('value')\n",
    "profissao = driver.find_element(By.NAME, 'role').get_property('value')\n",
    "signo = driver.find_element(By.NAME, 'zodiacSign').get_property('value')\n",
    "genero = driver.find_element(By.NAME, 'genderOfBirth').get_property('value')\n",
    "print(f'''\n",
    "Nome: {nome}\n",
    "Profissão: {profissao}\n",
    "Signo: {signo}\n",
    "Gênero: {genero}\n",
    "      ''')"
   ]
  },
  {
   "cell_type": "code",
   "execution_count": 816,
   "metadata": {},
   "outputs": [
    {
     "name": "stdout",
     "output_type": "stream",
     "text": [
      "Ígor Moraes\n",
      "Investidor Branding Engenheiro\n",
      "Áries\n",
      "Masculino\n"
     ]
    }
   ],
   "source": [
    "inputs = driver.find_elements(By.TAG_NAME, 'input')\n",
    "for input in inputs:\n",
    "    valor = input.get_property('value')\n",
    "    print(valor)"
   ]
  },
  {
   "cell_type": "code",
   "execution_count": 817,
   "metadata": {},
   "outputs": [
    {
     "name": "stdout",
     "output_type": "stream",
     "text": [
      "Abrir menu\n",
      "CSS - ID e Classes\n",
      "CSS - Combinadores\n",
      "CSS - Filho imediato\n",
      "CSS - Irmãos\n",
      "Exemplo 1\n",
      "Exemplo 2\n",
      "Exemplo 3\n",
      "Exemplo 4\n",
      "Exemplo 5\n",
      "Exemplo 6\n",
      "Exemplo 7\n",
      "Exemplo 8\n",
      "Exemplo 9\n",
      "Exemplo 10\n",
      "Exemplo 11\n",
      "Desafio 1\n",
      "Desafio 2\n",
      "Desafio 3\n",
      "Desafio 4\n",
      "Instagram\n",
      "Facebook\n",
      "Github\n",
      "YouTube\n",
      "Telegram\n"
     ]
    }
   ],
   "source": [
    "spans = driver.find_elements(By.TAG_NAME, 'span')\n",
    "for span in spans:\n",
    "    valor = span.text\n",
    "    print(valor)"
   ]
  },
  {
   "cell_type": "markdown",
   "metadata": {},
   "source": [
    "Concatenar buscas para restringir a área de busca"
   ]
  },
  {
   "cell_type": "code",
   "execution_count": 818,
   "metadata": {},
   "outputs": [
    {
     "name": "stdout",
     "output_type": "stream",
     "text": [
      "Instagram\n",
      "Facebook\n",
      "Github\n",
      "YouTube\n",
      "Telegram\n"
     ]
    }
   ],
   "source": [
    "rede_social = driver.find_element(By.ID, 'social').find_elements(By.TAG_NAME, 'span')\n",
    "for rede in rede_social:\n",
    "    print(rede.text)"
   ]
  },
  {
   "cell_type": "code",
   "execution_count": 819,
   "metadata": {},
   "outputs": [
    {
     "data": {
      "text/plain": [
       "[<selenium.webdriver.remote.webelement.WebElement (session=\"4887be22921369aa07933d417da22e15\", element=\"f.1465D9FF8924D68DB887023513F7D3F9.d.288283C125777AAB726C0C26CF15FEB7.e.43\")>]"
      ]
     },
     "execution_count": 819,
     "metadata": {},
     "output_type": "execute_result"
    }
   ],
   "source": [
    "driver.find_elements(By.LINK_TEXT, 'Instagram')"
   ]
  },
  {
   "cell_type": "code",
   "execution_count": 820,
   "metadata": {},
   "outputs": [
    {
     "name": "stdout",
     "output_type": "stream",
     "text": [
      "Instagram\n",
      "Telegram\n"
     ]
    }
   ],
   "source": [
    "gram = driver.find_elements(By.PARTIAL_LINK_TEXT, 'gram')\n",
    "for g in gram:\n",
    "    print(g.text)"
   ]
  },
  {
   "cell_type": "code",
   "execution_count": 821,
   "metadata": {},
   "outputs": [
    {
     "name": "stdout",
     "output_type": "stream",
     "text": [
      "Instagram\n",
      "Facebook\n",
      "Github\n",
      "YouTube\n",
      "Telegram\n"
     ]
    }
   ],
   "source": [
    "links = driver.find_element(By.ID, 'social').find_elements(By.TAG_NAME, 'a')\n",
    "for link in links:\n",
    "    print(link.text)"
   ]
  },
  {
   "cell_type": "code",
   "execution_count": 822,
   "metadata": {},
   "outputs": [
    {
     "name": "stdout",
     "output_type": "stream",
     "text": [
      "Ígor Moraes\n",
      "Investidor Branding Engenheiro\n",
      "Áries\n",
      "Masculino\n"
     ]
    }
   ],
   "source": [
    "inputs = driver.find_elements(By.CLASS_NAME, 'styled-input')\n",
    "for input in inputs:\n",
    "    print(input.get_property('value'))"
   ]
  },
  {
   "cell_type": "code",
   "execution_count": 823,
   "metadata": {},
   "outputs": [
    {
     "name": "stdout",
     "output_type": "stream",
     "text": [
      "Áries\n",
      "Masculino\n"
     ]
    }
   ],
   "source": [
    "two_inputs = driver.find_elements(By.CLASS_NAME, 'styled-input.optional-info')\n",
    "for input in two_inputs:\n",
    "    print(input.get_property('value'))"
   ]
  },
  {
   "cell_type": "markdown",
   "metadata": {},
   "source": [
    "ID \\/"
   ]
  },
  {
   "cell_type": "code",
   "execution_count": 824,
   "metadata": {},
   "outputs": [
    {
     "data": {
      "text/plain": [
       "<selenium.webdriver.remote.webelement.WebElement (session=\"4887be22921369aa07933d417da22e15\", element=\"f.1465D9FF8924D68DB887023513F7D3F9.d.288283C125777AAB726C0C26CF15FEB7.e.42\")>"
      ]
     },
     "execution_count": 824,
     "metadata": {},
     "output_type": "execute_result"
    }
   ],
   "source": [
    "driver.find_element(By.CSS_SELECTOR, 'div#social')"
   ]
  },
  {
   "cell_type": "markdown",
   "metadata": {},
   "source": [
    "CLASS"
   ]
  },
  {
   "cell_type": "code",
   "execution_count": 825,
   "metadata": {},
   "outputs": [
    {
     "name": "stdout",
     "output_type": "stream",
     "text": [
      "Ígor Moraes\n",
      "Investidor Branding Engenheiro\n",
      "Áries\n",
      "Masculino\n",
      "Áries\n",
      "Masculino\n"
     ]
    }
   ],
   "source": [
    "all_input = driver.find_elements(By.CSS_SELECTOR, 'input.styled-input')\n",
    "for i in all_input:\n",
    "    print(i.get_property('value'))\n",
    "\n",
    "two_input = driver.find_elements(By.CSS_SELECTOR, 'input.styled-input.optional-info')\n",
    "for two in two_input:\n",
    "    print(two.get_property('value'))"
   ]
  },
  {
   "cell_type": "markdown",
   "metadata": {},
   "source": [
    "PARENTESCO"
   ]
  },
  {
   "cell_type": "code",
   "execution_count": 826,
   "metadata": {},
   "outputs": [
    {
     "data": {
      "text/plain": [
       "[<selenium.webdriver.remote.webelement.WebElement (session=\"4887be22921369aa07933d417da22e15\", element=\"f.1465D9FF8924D68DB887023513F7D3F9.d.288283C125777AAB726C0C26CF15FEB7.e.8\")>,\n",
       " <selenium.webdriver.remote.webelement.WebElement (session=\"4887be22921369aa07933d417da22e15\", element=\"f.1465D9FF8924D68DB887023513F7D3F9.d.288283C125777AAB726C0C26CF15FEB7.e.9\")>]"
      ]
     },
     "execution_count": 826,
     "metadata": {},
     "output_type": "execute_result"
    }
   ],
   "source": [
    "driver.find_elements(By.CSS_SELECTOR, 'div.relative.mx-auto input.optional-info')"
   ]
  },
  {
   "cell_type": "code",
   "execution_count": 827,
   "metadata": {},
   "outputs": [
    {
     "data": {
      "text/plain": [
       "[<selenium.webdriver.remote.webelement.WebElement (session=\"4887be22921369aa07933d417da22e15\", element=\"f.1465D9FF8924D68DB887023513F7D3F9.d.288283C125777AAB726C0C26CF15FEB7.e.43\")>,\n",
       " <selenium.webdriver.remote.webelement.WebElement (session=\"4887be22921369aa07933d417da22e15\", element=\"f.1465D9FF8924D68DB887023513F7D3F9.d.288283C125777AAB726C0C26CF15FEB7.e.45\")>,\n",
       " <selenium.webdriver.remote.webelement.WebElement (session=\"4887be22921369aa07933d417da22e15\", element=\"f.1465D9FF8924D68DB887023513F7D3F9.d.288283C125777AAB726C0C26CF15FEB7.e.46\")>,\n",
       " <selenium.webdriver.remote.webelement.WebElement (session=\"4887be22921369aa07933d417da22e15\", element=\"f.1465D9FF8924D68DB887023513F7D3F9.d.288283C125777AAB726C0C26CF15FEB7.e.47\")>,\n",
       " <selenium.webdriver.remote.webelement.WebElement (session=\"4887be22921369aa07933d417da22e15\", element=\"f.1465D9FF8924D68DB887023513F7D3F9.d.288283C125777AAB726C0C26CF15FEB7.e.44\")>]"
      ]
     },
     "execution_count": 827,
     "metadata": {},
     "output_type": "execute_result"
    }
   ],
   "source": [
    "driver.find_elements(By.CSS_SELECTOR, 'div#social > a')"
   ]
  },
  {
   "cell_type": "code",
   "execution_count": 828,
   "metadata": {},
   "outputs": [
    {
     "name": "stdout",
     "output_type": "stream",
     "text": [
      "main => relative mx-auto max-w-sm w-full md:w-[90%] lg:max-w-[70vw]\n",
      "div => absolute inset-0 bg-gradient-to-r from-cyan-400 to-sky-500 bg-center shadow-xl rounded-lg -rotate-6 lg:-rotate-4\n",
      "div => relative bg-white dark:bg-gray-800 px-6 pt-10 pb-8 shadow-xl ring-1 ring-gray-900/5 rounded-lg sm:px-10\n",
      "div => relative mx-auto\n",
      "div => title\n",
      "label => block text-sm font-medium leading-6 text-gray-700 dark:text-white text-left \n",
      "input => block w-full rounded-md border-0 py-1.5 px-4 h-10 text-gray-700 ring-1 ring-inset ring-gray-300 bg-white placeholder:text-gray-400 focus:ring-2 focus:ring-inset focus:ring-cyan-600 sm:text-sm sm:leading-6 styled-input\n",
      "label => block text-sm font-medium leading-6 text-gray-700 dark:text-white text-left \n",
      "input => block w-full rounded-md border-0 py-1.5 px-4 h-10 text-gray-700 ring-1 ring-inset ring-gray-300 bg-white placeholder:text-gray-400 focus:ring-2 focus:ring-inset focus:ring-cyan-600 sm:text-sm sm:leading-6 styled-input\n",
      "label => block text-sm font-medium leading-6 text-gray-700 dark:text-white text-left \n",
      "input => block w-full rounded-md border-0 py-1.5 px-4 h-10 text-gray-700 ring-1 ring-inset ring-gray-300 bg-white placeholder:text-gray-400 focus:ring-2 focus:ring-inset focus:ring-cyan-600 sm:text-sm sm:leading-6 styled-input optional-info\n",
      "label => block text-sm font-medium leading-6 text-gray-700 dark:text-white text-left \n",
      "input => block w-full rounded-md border-0 py-1.5 px-4 h-10 text-gray-700 ring-1 ring-inset ring-gray-300 bg-white placeholder:text-gray-400 focus:ring-2 focus:ring-inset focus:ring-cyan-600 sm:text-sm sm:leading-6 styled-input optional-info\n",
      "label => block text-sm font-medium leading-6 text-gray-700 dark:text-white text-left \n",
      "div => grid grid-cols-2 lg:grid-cols-3 grid-flow-row gap-2 text-sm\n",
      "a => text-slate-700 dark:text-slate-100 hover:text-cyan-500 flex gap-2 items-center\n",
      "i => text-[20px] fi fi-brands-instagram\n",
      "span => \n",
      "a => text-slate-700 dark:text-slate-100 hover:text-cyan-500 flex gap-2 items-center\n",
      "i => text-[20px] fi fi-brands-facebook\n",
      "span => \n",
      "a => text-slate-700 dark:text-slate-100 hover:text-cyan-500 flex gap-2 items-center\n",
      "i => text-[20px] fi fi-brands-github\n",
      "span => \n",
      "a => text-slate-700 dark:text-slate-100 hover:text-cyan-500 flex gap-2 items-center\n",
      "i => text-[20px] fi fi-brands-youtube\n",
      "span => \n",
      "a => text-slate-700 dark:text-slate-100 hover:text-cyan-500 flex gap-2 items-center\n",
      "i => text-[20px] fi fi-brands-telegram\n",
      "span => \n"
     ]
    }
   ],
   "source": [
    "main_container = driver.find_elements(By.CSS_SELECTOR, 'div.main-container *')\n",
    "for m in main_container:\n",
    "    print(m.tag_name, '=>', m.get_attribute('class'))"
   ]
  },
  {
   "cell_type": "code",
   "execution_count": 829,
   "metadata": {},
   "outputs": [
    {
     "name": "stdout",
     "output_type": "stream",
     "text": [
      "a => text-slate-700 dark:text-slate-100 hover:text-cyan-500 flex gap-2 items-center\n",
      "a => text-slate-700 dark:text-slate-100 hover:text-cyan-500 flex gap-2 items-center\n",
      "a => text-slate-700 dark:text-slate-100 hover:text-cyan-500 flex gap-2 items-center\n",
      "a => text-slate-700 dark:text-slate-100 hover:text-cyan-500 flex gap-2 items-center\n",
      "a => text-slate-700 dark:text-slate-100 hover:text-cyan-500 flex gap-2 items-center\n"
     ]
    }
   ],
   "source": [
    "main_container = driver.find_elements(By.CSS_SELECTOR, 'div#social > *')\n",
    "for m in main_container:\n",
    "    print(m.tag_name, '=>', m.get_attribute('class'))"
   ]
  },
  {
   "cell_type": "markdown",
   "metadata": {},
   "source": [
    "PROPRIEDADES E ATRIBUTOS"
   ]
  },
  {
   "cell_type": "code",
   "execution_count": 830,
   "metadata": {},
   "outputs": [
    {
     "data": {
      "text/plain": [
       "<selenium.webdriver.remote.webelement.WebElement (session=\"4887be22921369aa07933d417da22e15\", element=\"f.1465D9FF8924D68DB887023513F7D3F9.d.288283C125777AAB726C0C26CF15FEB7.e.6\")>"
      ]
     },
     "execution_count": 830,
     "metadata": {},
     "output_type": "execute_result"
    }
   ],
   "source": [
    "driver.find_element(By.CSS_SELECTOR, 'input[name=\"fullname\"]')"
   ]
  },
  {
   "cell_type": "code",
   "execution_count": 831,
   "metadata": {},
   "outputs": [
    {
     "data": {
      "text/plain": [
       "[<selenium.webdriver.remote.webelement.WebElement (session=\"4887be22921369aa07933d417da22e15\", element=\"f.1465D9FF8924D68DB887023513F7D3F9.d.288283C125777AAB726C0C26CF15FEB7.e.43\")>,\n",
       " <selenium.webdriver.remote.webelement.WebElement (session=\"4887be22921369aa07933d417da22e15\", element=\"f.1465D9FF8924D68DB887023513F7D3F9.d.288283C125777AAB726C0C26CF15FEB7.e.45\")>,\n",
       " <selenium.webdriver.remote.webelement.WebElement (session=\"4887be22921369aa07933d417da22e15\", element=\"f.1465D9FF8924D68DB887023513F7D3F9.d.288283C125777AAB726C0C26CF15FEB7.e.46\")>,\n",
       " <selenium.webdriver.remote.webelement.WebElement (session=\"4887be22921369aa07933d417da22e15\", element=\"f.1465D9FF8924D68DB887023513F7D3F9.d.288283C125777AAB726C0C26CF15FEB7.e.47\")>,\n",
       " <selenium.webdriver.remote.webelement.WebElement (session=\"4887be22921369aa07933d417da22e15\", element=\"f.1465D9FF8924D68DB887023513F7D3F9.d.288283C125777AAB726C0C26CF15FEB7.e.44\")>]"
      ]
     },
     "execution_count": 831,
     "metadata": {},
     "output_type": "execute_result"
    }
   ],
   "source": [
    "driver.find_elements(By.CSS_SELECTOR, 'a[href=\"#\"]')"
   ]
  },
  {
   "cell_type": "code",
   "execution_count": 832,
   "metadata": {},
   "outputs": [
    {
     "data": {
      "text/plain": [
       "[<selenium.webdriver.remote.webelement.WebElement (session=\"4887be22921369aa07933d417da22e15\", element=\"f.1465D9FF8924D68DB887023513F7D3F9.d.288283C125777AAB726C0C26CF15FEB7.e.8\")>,\n",
       " <selenium.webdriver.remote.webelement.WebElement (session=\"4887be22921369aa07933d417da22e15\", element=\"f.1465D9FF8924D68DB887023513F7D3F9.d.288283C125777AAB726C0C26CF15FEB7.e.9\")>]"
      ]
     },
     "execution_count": 832,
     "metadata": {},
     "output_type": "execute_result"
    }
   ],
   "source": [
    "driver.find_elements(By.CSS_SELECTOR, 'input[disabled][data-optional=\"true\"]')"
   ]
  },
  {
   "cell_type": "code",
   "execution_count": 833,
   "metadata": {},
   "outputs": [],
   "source": [
    "pelo_value_completo = driver.find_elements(By.CSS_SELECTOR, 'input[value=\"Masculino\"]')\n",
    "pelo_sulfixo = driver.find_elements(By.CSS_SELECTOR, 'input[value$=\"lino\"]')"
   ]
  },
  {
   "cell_type": "code",
   "execution_count": 834,
   "metadata": {},
   "outputs": [
    {
     "name": "stdout",
     "output_type": "stream",
     "text": [
      "text-[20px] fi fi-brands-instagram\n",
      "text-[20px] fi fi-brands-telegram\n"
     ]
    }
   ],
   "source": [
    "gram = driver.find_elements(By.CSS_SELECTOR, '[class$=\"gram\"]')\n",
    "for g in gram:\n",
    "    print(g.get_attribute('class'))"
   ]
  },
  {
   "cell_type": "markdown",
   "metadata": {},
   "source": [
    "Prefixo"
   ]
  },
  {
   "cell_type": "code",
   "execution_count": 835,
   "metadata": {},
   "outputs": [
    {
     "data": {
      "text/plain": [
       "[<selenium.webdriver.remote.webelement.WebElement (session=\"4887be22921369aa07933d417da22e15\", element=\"f.1465D9FF8924D68DB887023513F7D3F9.d.288283C125777AAB726C0C26CF15FEB7.e.48\")>,\n",
       " <selenium.webdriver.remote.webelement.WebElement (session=\"4887be22921369aa07933d417da22e15\", element=\"f.1465D9FF8924D68DB887023513F7D3F9.d.288283C125777AAB726C0C26CF15FEB7.e.42\")>]"
      ]
     },
     "execution_count": 835,
     "metadata": {},
     "output_type": "execute_result"
    }
   ],
   "source": [
    "driver.find_elements(By.CSS_SELECTOR, '[name^=\"user\"]')"
   ]
  },
  {
   "cell_type": "code",
   "execution_count": 836,
   "metadata": {},
   "outputs": [
    {
     "name": "stdout",
     "output_type": "stream",
     "text": [
      "Abrir menu\n",
      "Exemplo 5\n",
      "Exemplo 6\n",
      "Exemplo 7\n",
      "Exemplo 8\n",
      "Exemplo 9\n",
      "Exemplo 10\n",
      "Exemplo 11\n",
      "Desafio 1\n",
      "Desafio 2\n",
      "Desafio 3\n",
      "Desafio 4\n",
      "Dados do usuário\n",
      "Nome completo\n",
      "Profissão\n",
      "Signo\n",
      "Gênero\n",
      "Redes socais\n",
      "Instagram\n",
      "Facebook\n",
      "Github\n",
      "YouTube\n",
      "Telegram -> text-center flex\n",
      "Instagram -> text-slate-700 dark:text-slate-100 hover:text-cyan-500 flex gap-2 items-center\n",
      " -> text-[20px] fi fi-brands-instagram\n",
      "Facebook -> text-slate-700 dark:text-slate-100 hover:text-cyan-500 flex gap-2 items-center\n",
      " -> text-[20px] fi fi-brands-facebook\n",
      "Github -> text-slate-700 dark:text-slate-100 hover:text-cyan-500 flex gap-2 items-center\n",
      " -> text-[20px] fi fi-brands-github\n",
      "YouTube -> text-slate-700 dark:text-slate-100 hover:text-cyan-500 flex gap-2 items-center\n",
      " -> text-[20px] fi fi-brands-youtube\n",
      "Telegram -> text-slate-700 dark:text-slate-100 hover:text-cyan-500 flex gap-2 items-center\n",
      " -> text-[20px] fi fi-brands-telegram\n"
     ]
    }
   ],
   "source": [
    "text_class = driver.find_elements(By.CSS_SELECTOR, '[class|=\"text\"]')\n",
    "for t in text_class:\n",
    "    print(t.text, '->', t.get_attribute('class'))"
   ]
  },
  {
   "cell_type": "markdown",
   "metadata": {},
   "source": [
    "SUBSTRING"
   ]
  },
  {
   "cell_type": "code",
   "execution_count": 837,
   "metadata": {},
   "outputs": [
    {
     "name": "stdout",
     "output_type": "stream",
     "text": [
      "Ígor Moraes\n",
      "Investidor Branding Engenheiro\n",
      "Masculino\n"
     ]
    }
   ],
   "source": [
    "contains_e = driver.find_elements(By.CSS_SELECTOR, 'input[id*=\"e\"]')\n",
    "for c in contains_e:\n",
    "    print(c.get_property('value'))"
   ]
  },
  {
   "cell_type": "markdown",
   "metadata": {},
   "source": [
    "XPATH"
   ]
  },
  {
   "cell_type": "markdown",
   "metadata": {},
   "source": [
    "busca por caminho absoluto"
   ]
  },
  {
   "cell_type": "code",
   "execution_count": 838,
   "metadata": {},
   "outputs": [
    {
     "data": {
      "text/plain": [
       "[<selenium.webdriver.remote.webelement.WebElement (session=\"4887be22921369aa07933d417da22e15\", element=\"f.1465D9FF8924D68DB887023513F7D3F9.d.288283C125777AAB726C0C26CF15FEB7.e.58\")>]"
      ]
     },
     "execution_count": 838,
     "metadata": {},
     "output_type": "execute_result"
    }
   ],
   "source": [
    "driver.find_elements(By.XPATH, '/html/body/div/div[1]')"
   ]
  },
  {
   "cell_type": "markdown",
   "metadata": {},
   "source": [
    "Busca por tag"
   ]
  },
  {
   "cell_type": "code",
   "execution_count": 839,
   "metadata": {},
   "outputs": [
    {
     "name": "stdout",
     "output_type": "stream",
     "text": [
      "Ígor Moraes\n",
      "Masculino\n"
     ]
    }
   ],
   "source": [
    "inputs = driver.find_elements(By.XPATH, '//input[1] | //input[4]')\n",
    "for i in inputs:\n",
    "    print(i.get_property('value'))"
   ]
  },
  {
   "cell_type": "markdown",
   "metadata": {},
   "source": [
    "Busca por atributos"
   ]
  },
  {
   "cell_type": "code",
   "execution_count": 840,
   "metadata": {},
   "outputs": [
    {
     "data": {
      "text/plain": [
       "[<selenium.webdriver.remote.webelement.WebElement (session=\"4887be22921369aa07933d417da22e15\", element=\"f.1465D9FF8924D68DB887023513F7D3F9.d.288283C125777AAB726C0C26CF15FEB7.e.6\")>]"
      ]
     },
     "execution_count": 840,
     "metadata": {},
     "output_type": "execute_result"
    }
   ],
   "source": [
    "driver.find_elements(By.XPATH, '//input[@id=\"user\"]')"
   ]
  },
  {
   "cell_type": "code",
   "execution_count": 841,
   "metadata": {},
   "outputs": [
    {
     "data": {
      "text/plain": [
       "[<selenium.webdriver.remote.webelement.WebElement (session=\"4887be22921369aa07933d417da22e15\", element=\"f.1465D9FF8924D68DB887023513F7D3F9.d.288283C125777AAB726C0C26CF15FEB7.e.43\")>]"
      ]
     },
     "execution_count": 841,
     "metadata": {},
     "output_type": "execute_result"
    }
   ],
   "source": [
    "driver.find_elements(By.XPATH, '//div[@id=\"social\"]/a[1]') "
   ]
  },
  {
   "cell_type": "markdown",
   "metadata": {},
   "source": [
    "Preencher formulário com selenium"
   ]
  },
  {
   "cell_type": "code",
   "execution_count": 842,
   "metadata": {},
   "outputs": [],
   "source": [
    "driver.get('https://curso-web-scraping.pages.dev/#/exemplo/2')"
   ]
  },
  {
   "cell_type": "code",
   "execution_count": 843,
   "metadata": {},
   "outputs": [],
   "source": [
    "email = driver.find_element(By.NAME, 'email')\n",
    "senha = driver.find_element(By.NAME, 'senha')\n",
    "button = driver.find_element(By.CSS_SELECTOR, 'button[type=\"submit\"]')"
   ]
  },
  {
   "cell_type": "code",
   "execution_count": 844,
   "metadata": {},
   "outputs": [],
   "source": [
    "email.send_keys('contato@email.com')\n",
    "senha.send_keys('123456')\n",
    "button.click()"
   ]
  },
  {
   "cell_type": "code",
   "execution_count": 845,
   "metadata": {},
   "outputs": [],
   "source": [
    "email.clear()\n",
    "senha.clear()\n",
    "email.send_keys('teste@email.com')\n",
    "senha.send_keys('654321')\n",
    "button.click()"
   ]
  },
  {
   "cell_type": "code",
   "execution_count": 846,
   "metadata": {},
   "outputs": [],
   "source": [
    "email.clear()\n",
    "senha.clear()\n",
    "email.send_keys('teste12@email.com')\n",
    "senha.send_keys('3112')\n",
    "email.submit()"
   ]
  },
  {
   "cell_type": "markdown",
   "metadata": {},
   "source": [
    "Select: dropdown selection"
   ]
  },
  {
   "cell_type": "code",
   "execution_count": 847,
   "metadata": {},
   "outputs": [],
   "source": [
    "driver.get('https://curso-web-scraping.pages.dev/#/exemplo/3')"
   ]
  },
  {
   "cell_type": "code",
   "execution_count": 848,
   "metadata": {},
   "outputs": [],
   "source": [
    "from selenium.webdriver.support.ui import Select"
   ]
  },
  {
   "cell_type": "code",
   "execution_count": 849,
   "metadata": {},
   "outputs": [
    {
     "name": "stdout",
     "output_type": "stream",
     "text": [
      "0 ->  Distrito Federal\n",
      "1 ->  Goiás\n",
      "2 ->  Mato Grosso\n",
      "3 ->  Mato Grosso do Sul\n"
     ]
    }
   ],
   "source": [
    "select = Select(driver.find_element(By.NAME, 'regiao'))\n",
    "for option in select.options:\n",
    "    print(option.get_attribute('value'), '-> ',option.text)"
   ]
  },
  {
   "cell_type": "code",
   "execution_count": 850,
   "metadata": {},
   "outputs": [],
   "source": [
    "select.select_by_index(3)"
   ]
  },
  {
   "cell_type": "code",
   "execution_count": 851,
   "metadata": {},
   "outputs": [],
   "source": [
    "select.select_by_visible_text('Goiás')"
   ]
  },
  {
   "cell_type": "code",
   "execution_count": 852,
   "metadata": {},
   "outputs": [],
   "source": [
    "select.select_by_value('1')"
   ]
  },
  {
   "cell_type": "code",
   "execution_count": 853,
   "metadata": {},
   "outputs": [
    {
     "data": {
      "text/plain": [
       "'Goiás'"
      ]
     },
     "execution_count": 853,
     "metadata": {},
     "output_type": "execute_result"
    }
   ],
   "source": [
    "select.first_selected_option.text"
   ]
  },
  {
   "cell_type": "markdown",
   "metadata": {},
   "source": [
    "Múltipla seleção"
   ]
  },
  {
   "cell_type": "code",
   "execution_count": 854,
   "metadata": {},
   "outputs": [
    {
     "name": "stdout",
     "output_type": "stream",
     "text": [
      "0 -> Distrito Federal\n",
      "1 -> Goiás\n",
      "2 -> Mato Grosso\n",
      "3 -> Mato Grosso do Sul\n"
     ]
    }
   ],
   "source": [
    "multi = Select(driver.find_element(By.CSS_SELECTOR, '#multi-select select'))\n",
    "for option in multi.options:\n",
    "    print(option.get_attribute('value'), '->', option.text)"
   ]
  },
  {
   "cell_type": "code",
   "execution_count": 855,
   "metadata": {},
   "outputs": [],
   "source": [
    "multi.select_by_index(1)"
   ]
  },
  {
   "cell_type": "code",
   "execution_count": 856,
   "metadata": {},
   "outputs": [],
   "source": [
    "multi.select_by_visible_text('Mato Grosso')"
   ]
  },
  {
   "cell_type": "code",
   "execution_count": 857,
   "metadata": {},
   "outputs": [
    {
     "name": "stdout",
     "output_type": "stream",
     "text": [
      "1 -> Goiás\n",
      "2 -> Mato Grosso\n"
     ]
    }
   ],
   "source": [
    "for aso in multi.all_selected_options:\n",
    "    print(aso.get_attribute('value'), '->', aso.text)"
   ]
  },
  {
   "cell_type": "code",
   "execution_count": 858,
   "metadata": {},
   "outputs": [],
   "source": [
    "multi.deselect_by_index(3)"
   ]
  },
  {
   "cell_type": "code",
   "execution_count": 859,
   "metadata": {},
   "outputs": [],
   "source": [
    "multi.deselect_by_value('2')"
   ]
  },
  {
   "cell_type": "code",
   "execution_count": 860,
   "metadata": {},
   "outputs": [],
   "source": [
    "multi.deselect_by_visible_text('Goiás')"
   ]
  },
  {
   "cell_type": "code",
   "execution_count": 861,
   "metadata": {},
   "outputs": [],
   "source": [
    "for opt in multi.options:\n",
    "    multi.select_by_visible_text(opt.text)"
   ]
  },
  {
   "cell_type": "code",
   "execution_count": 862,
   "metadata": {},
   "outputs": [],
   "source": [
    "multi.deselect_all()"
   ]
  },
  {
   "cell_type": "markdown",
   "metadata": {},
   "source": [
    "Exemplo: Selecionar o segundo elemento de cada Select"
   ]
  },
  {
   "cell_type": "code",
   "execution_count": 863,
   "metadata": {},
   "outputs": [],
   "source": [
    "all_selects = driver.find_elements(By.TAG_NAME, 'select')"
   ]
  },
  {
   "cell_type": "code",
   "execution_count": 864,
   "metadata": {},
   "outputs": [],
   "source": [
    "for selects in all_selects:\n",
    "    select = Select(selects)\n",
    "    select.select_by_index(1)"
   ]
  }
 ],
 "metadata": {
  "kernelspec": {
   "display_name": "venv",
   "language": "python",
   "name": "python3"
  },
  "language_info": {
   "codemirror_mode": {
    "name": "ipython",
    "version": 3
   },
   "file_extension": ".py",
   "mimetype": "text/x-python",
   "name": "python",
   "nbconvert_exporter": "python",
   "pygments_lexer": "ipython3",
   "version": "3.11.2"
  }
 },
 "nbformat": 4,
 "nbformat_minor": 2
}
