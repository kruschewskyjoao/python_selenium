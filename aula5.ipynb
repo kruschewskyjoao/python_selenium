{
 "cells": [
  {
   "cell_type": "code",
   "execution_count": 113,
   "metadata": {},
   "outputs": [],
   "source": [
    "from selenium import webdriver\n",
    "from selenium.webdriver.common.by import By\n",
    "from selenium.webdriver.support.ui import Select\n",
    "\n",
    "driver = webdriver.Chrome()\n",
    "driver.get('https://curso-web-scraping.pages.dev/#/exemplo/4')"
   ]
  },
  {
   "cell_type": "code",
   "execution_count": 114,
   "metadata": {},
   "outputs": [],
   "source": [
    "from selenium.webdriver.support.wait import WebDriverWait\n",
    "from selenium.webdriver.support import expected_conditions as EC"
   ]
  },
  {
   "cell_type": "markdown",
   "metadata": {},
   "source": [
    "Timeout é o tempo limite que ele deve aguardar até levantar uma exceção."
   ]
  },
  {
   "cell_type": "code",
   "execution_count": 115,
   "metadata": {},
   "outputs": [
    {
     "data": {
      "text/plain": [
       "<selenium.webdriver.remote.webelement.WebElement (session=\"fe5f5c923d2f0d6c21c89b5ccb2e1729\", element=\"f.DBCA3B72AC6D4DA78E5A44B670A65F14.d.AC99449BC04B7AE2F9DF1B852B4C4CB3.e.7\")>"
      ]
     },
     "execution_count": 115,
     "metadata": {},
     "output_type": "execute_result"
    }
   ],
   "source": [
    "wait = WebDriverWait(driver=driver, timeout=5)\n",
    "wait.until(EC.presence_of_element_located((By.ID, 'vantagens')))"
   ]
  },
  {
   "cell_type": "markdown",
   "metadata": {},
   "source": [
    "Tempo entre cada verificação com poll_frequency"
   ]
  },
  {
   "cell_type": "code",
   "execution_count": 116,
   "metadata": {},
   "outputs": [
    {
     "data": {
      "text/plain": [
       "<selenium.webdriver.remote.webelement.WebElement (session=\"fe5f5c923d2f0d6c21c89b5ccb2e1729\", element=\"f.DBCA3B72AC6D4DA78E5A44B670A65F14.d.AC99449BC04B7AE2F9DF1B852B4C4CB3.e.7\")>"
      ]
     },
     "execution_count": 116,
     "metadata": {},
     "output_type": "execute_result"
    }
   ],
   "source": [
    "wait = WebDriverWait(driver=driver, timeout=50, poll_frequency=0.5)\n",
    "wait.until(EC.presence_of_element_located((By.ID, 'vantagens')))"
   ]
  },
  {
   "cell_type": "markdown",
   "metadata": {},
   "source": [
    "Personalizar as Exceptions"
   ]
  },
  {
   "cell_type": "code",
   "execution_count": 117,
   "metadata": {},
   "outputs": [
    {
     "name": "stdout",
     "output_type": "stream",
     "text": [
      "Elemento ID \"vantagens\" não encontrado\n"
     ]
    }
   ],
   "source": [
    "driver.refresh()\n",
    "wait = WebDriverWait(driver=driver, timeout=1)\n",
    "try:\n",
    "  wait.until(\n",
    "  method=EC.presence_of_element_located((By.ID, 'vantagens')),\n",
    "  message='Elemento ID \"vantagens\" não encontrado'\n",
    "  )\n",
    "except Exception as e:\n",
    "  print(e.msg)"
   ]
  },
  {
   "cell_type": "markdown",
   "metadata": {},
   "source": [
    "Exemplos de uso\n",
    "-lojas com tabelas de produtos\n",
    "-internet lenta\n",
    "-alta latência\n",
    "\n",
    "Uso do implicitly_wait caso não consiga encontrar o 'vantagens' logo de cara."
   ]
  },
  {
   "cell_type": "code",
   "execution_count": 118,
   "metadata": {},
   "outputs": [
    {
     "data": {
      "text/plain": [
       "<selenium.webdriver.remote.webelement.WebElement (session=\"fe5f5c923d2f0d6c21c89b5ccb2e1729\", element=\"f.DBCA3B72AC6D4DA78E5A44B670A65F14.d.EA38317B0B902D199C12EBA644CD289E.e.19\")>"
      ]
     },
     "execution_count": 118,
     "metadata": {},
     "output_type": "execute_result"
    }
   ],
   "source": [
    "driver.get('https://curso-web-scraping.pages.dev/#/exemplo/4')\n",
    "driver.implicitly_wait(time_to_wait=5)\n",
    "driver.refresh()\n",
    "driver.find_element(By.ID, 'vantagens')"
   ]
  },
  {
   "cell_type": "code",
   "execution_count": 119,
   "metadata": {},
   "outputs": [],
   "source": [
    "driver.get('https://curso-web-scraping.pages.dev/#/exemplo/5')"
   ]
  },
  {
   "cell_type": "code",
   "execution_count": 120,
   "metadata": {},
   "outputs": [],
   "source": [
    "wait = WebDriverWait(driver=driver, timeout=30, poll_frequency=1)"
   ]
  },
  {
   "cell_type": "markdown",
   "metadata": {},
   "source": [
    "Title_is"
   ]
  },
  {
   "cell_type": "code",
   "execution_count": 121,
   "metadata": {},
   "outputs": [
    {
     "name": "stdout",
     "output_type": "stream",
     "text": [
      "CPU times: user 10.9 ms, sys: 209 μs, total: 11.1 ms\n",
      "Wall time: 3.08 s\n"
     ]
    },
    {
     "data": {
      "text/plain": [
       "True"
      ]
     },
     "execution_count": 121,
     "metadata": {},
     "output_type": "execute_result"
    }
   ],
   "source": [
    "driver.refresh()\n",
    "%time wait.until(EC.title_is('Programador'))"
   ]
  },
  {
   "cell_type": "markdown",
   "metadata": {},
   "source": [
    "Title_contains"
   ]
  },
  {
   "cell_type": "code",
   "execution_count": 122,
   "metadata": {},
   "outputs": [
    {
     "name": "stdout",
     "output_type": "stream",
     "text": [
      "CPU times: user 16.5 ms, sys: 1.98 ms, total: 18.4 ms\n",
      "Wall time: 6.12 s\n"
     ]
    },
    {
     "data": {
      "text/plain": [
       "True"
      ]
     },
     "execution_count": 122,
     "metadata": {},
     "output_type": "execute_result"
    }
   ],
   "source": [
    "driver.refresh()\n",
    "%time wait.until(EC.title_contains('Aventureiro'))"
   ]
  },
  {
   "cell_type": "markdown",
   "metadata": {},
   "source": [
    "Presence_of_element_located"
   ]
  },
  {
   "cell_type": "code",
   "execution_count": 123,
   "metadata": {},
   "outputs": [
    {
     "name": "stdout",
     "output_type": "stream",
     "text": [
      "CPU times: user 7.3 ms, sys: 0 ns, total: 7.3 ms\n",
      "Wall time: 8.08 s\n"
     ]
    },
    {
     "data": {
      "text/plain": [
       "<selenium.webdriver.remote.webelement.WebElement (session=\"fe5f5c923d2f0d6c21c89b5ccb2e1729\", element=\"f.DBCA3B72AC6D4DA78E5A44B670A65F14.d.105A08431092693CB447B0F718E414AD.e.48\")>"
      ]
     },
     "execution_count": 123,
     "metadata": {},
     "output_type": "execute_result"
    }
   ],
   "source": [
    "driver.refresh()\n",
    "%time wait.until(EC.presence_of_element_located((By.ID, 'star1')))"
   ]
  },
  {
   "cell_type": "markdown",
   "metadata": {},
   "source": [
    "Presence_of_all_elements_located"
   ]
  },
  {
   "cell_type": "code",
   "execution_count": 124,
   "metadata": {},
   "outputs": [
    {
     "name": "stdout",
     "output_type": "stream",
     "text": [
      "CPU times: user 7.29 ms, sys: 42 μs, total: 7.33 ms\n",
      "Wall time: 6.07 s\n"
     ]
    },
    {
     "data": {
      "text/plain": [
       "[<selenium.webdriver.remote.webelement.WebElement (session=\"fe5f5c923d2f0d6c21c89b5ccb2e1729\", element=\"f.DBCA3B72AC6D4DA78E5A44B670A65F14.d.46EB2FD5FED4850BA8D45ED1D002CFF8.e.61\")>]"
      ]
     },
     "execution_count": 124,
     "metadata": {},
     "output_type": "execute_result"
    }
   ],
   "source": [
    "driver.refresh()\n",
    "%time wait.until(EC.presence_of_all_elements_located((By.NAME, 'stars')))"
   ]
  },
  {
   "cell_type": "markdown",
   "metadata": {},
   "source": [
    "visibility_of_element_located"
   ]
  },
  {
   "cell_type": "code",
   "execution_count": 125,
   "metadata": {},
   "outputs": [
    {
     "name": "stdout",
     "output_type": "stream",
     "text": [
      "CPU times: user 21.9 ms, sys: 2.77 ms, total: 24.7 ms\n",
      "Wall time: 4.27 s\n"
     ]
    },
    {
     "data": {
      "text/plain": [
       "<selenium.webdriver.remote.webelement.WebElement (session=\"fe5f5c923d2f0d6c21c89b5ccb2e1729\", element=\"f.DBCA3B72AC6D4DA78E5A44B670A65F14.d.58BDC1262D1A64FE91E9B117FE501F83.e.67\")>"
      ]
     },
     "execution_count": 125,
     "metadata": {},
     "output_type": "execute_result"
    }
   ],
   "source": [
    "driver.refresh()\n",
    "%time wait.until(EC.visibility_of_element_located((By.ID, 'star3')))"
   ]
  },
  {
   "cell_type": "markdown",
   "metadata": {},
   "source": [
    "element_to_be_clickable"
   ]
  },
  {
   "cell_type": "code",
   "execution_count": 126,
   "metadata": {},
   "outputs": [
    {
     "name": "stdout",
     "output_type": "stream",
     "text": [
      "CPU times: user 52.5 ms, sys: 4.52 ms, total: 57 ms\n",
      "Wall time: 5.6 s\n"
     ]
    },
    {
     "data": {
      "text/plain": [
       "<selenium.webdriver.remote.webelement.WebElement (session=\"fe5f5c923d2f0d6c21c89b5ccb2e1729\", element=\"f.DBCA3B72AC6D4DA78E5A44B670A65F14.d.F4D9774FEACBBF598AC2544FF5A9929B.e.78\")>"
      ]
     },
     "execution_count": 126,
     "metadata": {},
     "output_type": "execute_result"
    }
   ],
   "source": [
    "driver.refresh()\n",
    "%time wait.until(EC.element_to_be_clickable((By.ID, 'telegram')))"
   ]
  },
  {
   "cell_type": "markdown",
   "metadata": {},
   "source": [
    "staleness_of"
   ]
  },
  {
   "cell_type": "code",
   "execution_count": 127,
   "metadata": {},
   "outputs": [
    {
     "name": "stdout",
     "output_type": "stream",
     "text": [
      "CPU times: user 15.4 ms, sys: 168 μs, total: 15.6 ms\n",
      "Wall time: 5.22 s\n"
     ]
    },
    {
     "data": {
      "text/plain": [
       "True"
      ]
     },
     "execution_count": 127,
     "metadata": {},
     "output_type": "execute_result"
    }
   ],
   "source": [
    "driver.refresh()\n",
    "star = driver.find_element(By.ID, 'star4')\n",
    "%time wait.until(EC.staleness_of((star)))"
   ]
  },
  {
   "cell_type": "markdown",
   "metadata": {},
   "source": [
    "element_attribute_to_include"
   ]
  },
  {
   "cell_type": "code",
   "execution_count": 128,
   "metadata": {},
   "outputs": [
    {
     "name": "stdout",
     "output_type": "stream",
     "text": [
      "CPU times: user 29.9 ms, sys: 1.64 ms, total: 31.5 ms\n",
      "Wall time: 5.32 s\n"
     ]
    },
    {
     "data": {
      "text/plain": [
       "True"
      ]
     },
     "execution_count": 128,
     "metadata": {},
     "output_type": "execute_result"
    }
   ],
   "source": [
    "driver.refresh()\n",
    "%time wait.until(EC.element_attribute_to_include((By.ID, 'star5'),'name'))"
   ]
  }
 ],
 "metadata": {
  "kernelspec": {
   "display_name": "venv",
   "language": "python",
   "name": "python3"
  },
  "language_info": {
   "codemirror_mode": {
    "name": "ipython",
    "version": 3
   },
   "file_extension": ".py",
   "mimetype": "text/x-python",
   "name": "python",
   "nbconvert_exporter": "python",
   "pygments_lexer": "ipython3",
   "version": "3.11.2"
  }
 },
 "nbformat": 4,
 "nbformat_minor": 2
}
