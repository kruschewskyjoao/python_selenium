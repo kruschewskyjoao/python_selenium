{
 "cells": [
  {
   "cell_type": "code",
   "execution_count": 67,
   "metadata": {},
   "outputs": [],
   "source": [
    "from selenium import webdriver\n",
    "from selenium.webdriver.common.by import By\n",
    "from selenium.webdriver.support.ui import Select\n",
    "from selenium.webdriver.support.ui import WebDriverWait\n",
    "from selenium.webdriver.support import expected_conditions as EC\n",
    "\n",
    "driver = webdriver.Chrome()\n",
    "driver.get('https://curso-web-scraping.pages.dev/#/desafio/2')"
   ]
  },
  {
   "cell_type": "code",
   "execution_count": 68,
   "metadata": {},
   "outputs": [],
   "source": [
    "import json\n",
    "with open('desafiojson2.json') as file:\n",
    "    data = json.load(file)"
   ]
  },
  {
   "cell_type": "code",
   "execution_count": 69,
   "metadata": {},
   "outputs": [],
   "source": [
    "input_text = driver.find_element(By.CSS_SELECTOR, 'input[type=\"text\"]')\n",
    "search_button = driver.find_element(By.CSS_SELECTOR, 'button.text-white.bg-cyan-500.px-4.rounded-md')\n"
   ]
  },
  {
   "cell_type": "code",
   "execution_count": 70,
   "metadata": {},
   "outputs": [],
   "source": [
    "resultados = []\n",
    "for nome in data:\n",
    "    input_text.clear()\n",
    "    input_text.send_keys(nome)\n",
    "\n",
    "    # Espere até que o botão esteja clicável e clique nele\n",
    "    WebDriverWait(driver, 10).until(EC.element_to_be_clickable(search_button))\n",
    "    search_button.click()\n",
    "\n",
    "    # Espere até que todos os elementos de usuário estejam visíveis\n",
    "    WebDriverWait(driver, 15).until(\n",
    "        EC.visibility_of_all_elements_located((By.CSS_SELECTOR, 'div.users-list > div'))\n",
    "    )\n",
    "\n",
    "    # Encontre todos os itens de usuário na lista\n",
    "    users = driver.find_elements(By.CSS_SELECTOR, 'div.users-list > div')\n",
    "\n",
    "for user in users:\n",
    "    try:\n",
    "        foto = user.find_element(By.TAG_NAME, 'img')\n",
    "        nome = user.find_element(By.TAG_NAME, 'h3')\n",
    "        profissao = user.find_element(By.TAG_NAME, 'span')\n",
    "        email = user.find_element(By.CSS_SELECTOR, 'ul > li:nth-child(1)')\n",
    "        telefone = user.find_element(By.CSS_SELECTOR, 'ul > li:nth-child(2)')\n",
    "        perfil = user.find_element(By.CSS_SELECTOR, 'ul > li:nth-child(3)')\n",
    "        estado = user.find_element(By.CSS_SELECTOR, 'ul > li:nth-child(4)')\n",
    "\n",
    "        dados_do_usuario = {\n",
    "            \"foto\": foto.get_attribute('src'),\n",
    "            \"nome\": nome.text,\n",
    "            \"profissao\": profissao.text,\n",
    "            \"email\": email.text[8:],  # Ajuste conforme necessário\n",
    "            \"telefone\": telefone.text[10:],  # Ajuste conforme necessário\n",
    "            \"perfil\": perfil.text[9:],  # Ajuste conforme necessário\n",
    "            \"estado\": estado.text.strip().replace(\"Estado: \", \"\")  # Remove o prefixo \"Estado: \"\n",
    "        }\n",
    "\n",
    "        resultados.append(dados_do_usuario)\n",
    "    except Exception as e:\n",
    "        print(f\"Erro ao processar um item de usuário: {e}\")\n",
    "\n",
    "\n",
    "# Feche o navegador\n",
    "driver.quit()\n"
   ]
  },
  {
   "cell_type": "code",
   "execution_count": 71,
   "metadata": {},
   "outputs": [
    {
     "data": {
      "text/plain": [
       "[{'foto': 'https://avatars.githubusercontent.com/u/89575678',\n",
       "  'nome': 'Rafael Xavier',\n",
       "  'profissao': 'Administrador',\n",
       "  'email': 'rafael.xavier@example.org',\n",
       "  'telefone': '(21) 0082-5585',\n",
       "  'perfil': 'rafael_xavier',\n",
       "  'estado': 'Acre'},\n",
       " {'foto': 'https://avatars.githubusercontent.com/u/30266823',\n",
       "  'nome': 'Rafael Barros',\n",
       "  'profissao': 'Estrategista',\n",
       "  'email': 'rafael.barros48@example.com',\n",
       "  'telefone': '+55 (50) 1075-1983',\n",
       "  'perfil': 'rafael_barros23',\n",
       "  'estado': 'Piauí'},\n",
       " {'foto': 'https://cloudflare-ipfs.com/ipfs/Qmd3W5DuhgHirLHGVixi6V76LhCkZUz6pnFt5AJBiyvHye/avatar/113.jpg',\n",
       "  'nome': 'Rafael Moreira',\n",
       "  'profissao': 'Executivo',\n",
       "  'email': 'rafael_moreira6@example.org',\n",
       "  'telefone': '(42) 78000-4882',\n",
       "  'perfil': 'rafael.moreira51',\n",
       "  'estado': 'Espírito Santo'},\n",
       " {'foto': 'https://avatars.githubusercontent.com/u/46930596',\n",
       "  'nome': 'Rafael Oliveira',\n",
       "  'profissao': 'Executivo',\n",
       "  'email': 'rafael.oliveira84@example.org',\n",
       "  'telefone': '(19) 6956-4263',\n",
       "  'perfil': 'rafael.oliveira91',\n",
       "  'estado': 'Santa Catarina'},\n",
       " {'foto': 'https://avatars.githubusercontent.com/u/43952067',\n",
       "  'nome': 'Rafael Batista',\n",
       "  'profissao': 'Desenvolvedor',\n",
       "  'email': 'rafael_batista69@example.net',\n",
       "  'telefone': '(99) 7109-0752',\n",
       "  'perfil': 'rafael.batista',\n",
       "  'estado': 'Pará'},\n",
       " {'foto': 'https://avatars.githubusercontent.com/u/2640413',\n",
       "  'nome': 'Rafael Martins Neto',\n",
       "  'profissao': 'Especialista',\n",
       "  'email': 'rafael.martins@example.org',\n",
       "  'telefone': '(05) 62755-7885',\n",
       "  'perfil': 'rafael.martins',\n",
       "  'estado': 'Minas Gerais'},\n",
       " {'foto': 'https://avatars.githubusercontent.com/u/69360873',\n",
       "  'nome': 'Rafael Costa',\n",
       "  'profissao': 'Orquestrador',\n",
       "  'email': 'rafael.costa8@example.com',\n",
       "  'telefone': '(96) 34876-6113',\n",
       "  'perfil': 'rafael_costa',\n",
       "  'estado': 'São Paulo'},\n",
       " {'foto': 'https://avatars.githubusercontent.com/u/10066291',\n",
       "  'nome': 'Rafael Reis',\n",
       "  'profissao': 'Policial',\n",
       "  'email': 'rafael.reis@example.org',\n",
       "  'telefone': '(22) 48095-8154',\n",
       "  'perfil': 'rafael.reis',\n",
       "  'estado': 'Santa Catarina'},\n",
       " {'foto': 'https://cloudflare-ipfs.com/ipfs/Qmd3W5DuhgHirLHGVixi6V76LhCkZUz6pnFt5AJBiyvHye/avatar/704.jpg',\n",
       "  'nome': 'Rafael Nogueira',\n",
       "  'profissao': 'Associado',\n",
       "  'email': 'rafael_nogueira@example.net',\n",
       "  'telefone': '(81) 73357-2586',\n",
       "  'perfil': 'rafael.nogueira',\n",
       "  'estado': 'Paraíba'},\n",
       " {'foto': 'https://avatars.githubusercontent.com/u/66171666',\n",
       "  'nome': 'Rafael Batista Neto',\n",
       "  'profissao': 'Facilitador',\n",
       "  'email': 'rafael_batista@example.org',\n",
       "  'telefone': '(74) 8834-4310',\n",
       "  'perfil': 'rafael_batista',\n",
       "  'estado': 'Maranhão'}]"
      ]
     },
     "execution_count": 71,
     "metadata": {},
     "output_type": "execute_result"
    }
   ],
   "source": [
    "resultados"
   ]
  },
  {
   "cell_type": "markdown",
   "metadata": {},
   "source": [
    "Salvar em JSON"
   ]
  },
  {
   "cell_type": "code",
   "execution_count": 72,
   "metadata": {},
   "outputs": [],
   "source": [
    "from dataclasses import asdict"
   ]
  },
  {
   "cell_type": "code",
   "execution_count": 73,
   "metadata": {},
   "outputs": [],
   "source": [
    "with open('dados_capturados.json', 'w') as file:\n",
    "  json.dump(resultados, file, ensure_ascii=False, indent=4)"
   ]
  },
  {
   "cell_type": "markdown",
   "metadata": {},
   "source": [
    "Salvar em CSV"
   ]
  },
  {
   "cell_type": "code",
   "execution_count": 74,
   "metadata": {},
   "outputs": [],
   "source": [
    "import csv\n",
    "from dataclasses import fields"
   ]
  },
  {
   "cell_type": "code",
   "execution_count": 75,
   "metadata": {},
   "outputs": [],
   "source": [
    "fieldnames = resultados[0].keys() if resultados else []\n",
    "with open('dados_capturados.csv', 'w', newline='', encoding='utf-8') as file:\n",
    "    writer = csv.DictWriter(file, fieldnames=fieldnames)\n",
    "    writer.writeheader()\n",
    "    writer.writerows(resultados)"
   ]
  }
 ],
 "metadata": {
  "kernelspec": {
   "display_name": "venv",
   "language": "python",
   "name": "python3"
  },
  "language_info": {
   "codemirror_mode": {
    "name": "ipython",
    "version": 3
   },
   "file_extension": ".py",
   "mimetype": "text/x-python",
   "name": "python",
   "nbconvert_exporter": "python",
   "pygments_lexer": "ipython3",
   "version": "3.11.2"
  }
 },
 "nbformat": 4,
 "nbformat_minor": 2
}
