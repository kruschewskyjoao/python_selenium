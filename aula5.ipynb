{
 "cells": [
  {
   "cell_type": "code",
   "execution_count": 22,
   "metadata": {},
   "outputs": [],
   "source": [
    "from selenium import webdriver\n",
    "from selenium.webdriver.common.by import By\n",
    "from selenium.webdriver.support.ui import Select\n",
    "\n",
    "driver = webdriver.Chrome()\n",
    "driver.get('https://curso-web-scraping.pages.dev/#/exemplo/4')"
   ]
  },
  {
   "cell_type": "code",
   "execution_count": 23,
   "metadata": {},
   "outputs": [],
   "source": [
    "from selenium.webdriver.support.wait import WebDriverWait\n",
    "from selenium.webdriver.support import expected_conditions as EC"
   ]
  },
  {
   "cell_type": "markdown",
   "metadata": {},
   "source": [
    "Timeout é o tempo limite que ele deve aguardar até levantar uma exceção."
   ]
  },
  {
   "cell_type": "code",
   "execution_count": 24,
   "metadata": {},
   "outputs": [
    {
     "data": {
      "text/plain": [
       "<selenium.webdriver.remote.webelement.WebElement (session=\"e031e5a85cbb0a27150f28c51f87fa3c\", element=\"f.FE6E0FE1070CF4A0E01B590B9513EFE0.d.A0EBFE6B94500EB2D0E1B2750DB06890.e.7\")>"
      ]
     },
     "execution_count": 24,
     "metadata": {},
     "output_type": "execute_result"
    }
   ],
   "source": [
    "wait = WebDriverWait(driver=driver, timeout=5)\n",
    "wait.until(EC.presence_of_element_located((By.ID, 'vantagens')))"
   ]
  },
  {
   "cell_type": "markdown",
   "metadata": {},
   "source": [
    "Tempo entre cada verificação com poll_frequency"
   ]
  },
  {
   "cell_type": "code",
   "execution_count": 25,
   "metadata": {},
   "outputs": [
    {
     "data": {
      "text/plain": [
       "<selenium.webdriver.remote.webelement.WebElement (session=\"e031e5a85cbb0a27150f28c51f87fa3c\", element=\"f.FE6E0FE1070CF4A0E01B590B9513EFE0.d.A0EBFE6B94500EB2D0E1B2750DB06890.e.7\")>"
      ]
     },
     "execution_count": 25,
     "metadata": {},
     "output_type": "execute_result"
    }
   ],
   "source": [
    "wait = WebDriverWait(driver=driver, timeout=50, poll_frequency=0.5)\n",
    "wait.until(EC.presence_of_element_located((By.ID, 'vantagens')))"
   ]
  },
  {
   "cell_type": "markdown",
   "metadata": {},
   "source": [
    "Personalizar as Exceptions"
   ]
  },
  {
   "cell_type": "code",
   "execution_count": 26,
   "metadata": {},
   "outputs": [
    {
     "name": "stdout",
     "output_type": "stream",
     "text": [
      "Elemento ID \"vantagens\" não encontrado\n"
     ]
    }
   ],
   "source": [
    "driver.refresh()\n",
    "wait = WebDriverWait(driver=driver, timeout=1)\n",
    "try:\n",
    "  wait.until(\n",
    "  method=EC.presence_of_element_located((By.ID, 'vantagens')),\n",
    "  message='Elemento ID \"vantagens\" não encontrado'\n",
    "  )\n",
    "except Exception as e:\n",
    "  print(e.msg)"
   ]
  },
  {
   "cell_type": "markdown",
   "metadata": {},
   "source": [
    "Exemplos de uso\n",
    "-lojas com tabelas de produtos\n",
    "-internet lenta\n",
    "-alta latência"
   ]
  },
  {
   "cell_type": "code",
   "execution_count": 27,
   "metadata": {},
   "outputs": [
    {
     "data": {
      "text/plain": [
       "<selenium.webdriver.remote.webelement.WebElement (session=\"e031e5a85cbb0a27150f28c51f87fa3c\", element=\"f.FE6E0FE1070CF4A0E01B590B9513EFE0.d.F543C9082CB445B2613004EFB337C26D.e.19\")>"
      ]
     },
     "execution_count": 27,
     "metadata": {},
     "output_type": "execute_result"
    }
   ],
   "source": [
    "driver.get('https://curso-web-scraping.pages.dev/#/exemplo/4')\n",
    "driver.implicitly_wait(time_to_wait=5)\n",
    "driver.refresh()\n",
    "driver.find_element(By.ID, 'vantagens')"
   ]
  }
 ],
 "metadata": {
  "kernelspec": {
   "display_name": "venv",
   "language": "python",
   "name": "python3"
  },
  "language_info": {
   "codemirror_mode": {
    "name": "ipython",
    "version": 3
   },
   "file_extension": ".py",
   "mimetype": "text/x-python",
   "name": "python",
   "nbconvert_exporter": "python",
   "pygments_lexer": "ipython3",
   "version": "3.11.2"
  }
 },
 "nbformat": 4,
 "nbformat_minor": 2
}
