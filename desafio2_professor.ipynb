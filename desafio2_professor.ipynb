{
 "cells": [
  {
   "cell_type": "code",
   "execution_count": 8,
   "metadata": {},
   "outputs": [],
   "source": [
    "from selenium import webdriver\n",
    "from selenium.webdriver.common.by import By\n",
    "from selenium.webdriver.support.ui import Select\n",
    "from selenium.webdriver.support.ui import WebDriverWait\n",
    "from selenium.webdriver.support import expected_conditions as EC\n",
    "\n",
    "driver = webdriver.Chrome()\n",
    "driver.get('https://curso-web-scraping.pages.dev/#/desafio/2')"
   ]
  },
  {
   "cell_type": "code",
   "execution_count": 9,
   "metadata": {},
   "outputs": [],
   "source": [
    "from dataclasses import dataclass\n",
    "@dataclass\n",
    "class Usuario:\n",
    "  foto: str\n",
    "  nome: str\n",
    "  profissao: str\n",
    "  email: str\n",
    "  telefone: str\n",
    "  perfil: str\n",
    "  estado: str"
   ]
  },
  {
   "cell_type": "code",
   "execution_count": 10,
   "metadata": {},
   "outputs": [],
   "source": [
    "import json\n",
    "with open('desafiojson2.json') as file:\n",
    "    usuarios = json.load(file)"
   ]
  },
  {
   "cell_type": "code",
   "execution_count": 11,
   "metadata": {},
   "outputs": [],
   "source": [
    "driver.implicitly_wait(10)"
   ]
  },
  {
   "cell_type": "code",
   "execution_count": 12,
   "metadata": {},
   "outputs": [],
   "source": [
    "inp = driver.find_element(By.CSS_SELECTOR, 'main input[type=\"text\"]')\n",
    "botao = driver.find_element(By.CSS_SELECTOR, 'main button')"
   ]
  },
  {
   "cell_type": "code",
   "execution_count": 13,
   "metadata": {},
   "outputs": [],
   "source": [
    "data = []\n",
    "for usuario in usuarios:\n",
    "  inp.clear()\n",
    "  inp.send_keys(usuario)\n",
    "  wait = WebDriverWait(driver=driver, timeout=15, poll_frequency=1)\n",
    "  wait.until(EC.element_to_be_clickable(botao))\n",
    "  botao.click()\n",
    "\n",
    "  wait.until(EC.visibility_of_all_elements_located((By.CSS_SELECTOR, 'div.users-list > div > img')))\n",
    "  users = driver.find_elements(By.CSS_SELECTOR, 'div.users-list > div')\n",
    "\n",
    "  for user in users:\n",
    "    foto = user.find_element(By.TAG_NAME, 'img')\n",
    "    nome = user.find_element(By.TAG_NAME, 'h3')\n",
    "    profissao = user.find_element(By.TAG_NAME, 'span')\n",
    "    email = user.find_element(By.CSS_SELECTOR, 'ul > li:nth-child(1)')\n",
    "    telefone = user.find_element(By.CSS_SELECTOR, 'ul > li:nth-child(2)')\n",
    "    perfil = user.find_element(By.CSS_SELECTOR, 'ul > li:nth-child(3)')\n",
    "    estado = user.find_element(By.CSS_SELECTOR, 'ul > li:nth-child(4)')\n",
    "\n",
    "    dados_do_usuario = Usuario(\n",
    "      foto = foto.get_attribute('src'),\n",
    "      nome = nome.text, # nome.get_attribute('innerText')\n",
    "      profissao = profissao.text,\n",
    "      email = email.text[8:],\n",
    "      telefone = telefone.text[10:],\n",
    "      perfil = perfil.text[9:],\n",
    "      estado = estado.text[:8]\n",
    "    )\n",
    "\n",
    "    data.append(dados_do_usuario)"
   ]
  },
  {
   "cell_type": "code",
   "execution_count": 14,
   "metadata": {},
   "outputs": [
    {
     "data": {
      "text/plain": [
       "[Usuario(foto='https://avatars.githubusercontent.com/u/78870388', nome='Dalton Oliveira Neto', profissao='Designer', email='dalton.oliveira27@example.net', telefone='(55) 6325-8267', perfil='dalton.oliveira19', estado='Estado: '),\n",
       " Usuario(foto='https://avatars.githubusercontent.com/u/50695405', nome='Dalton Santos', profissao='Associado', email='dalton.santos29@example.org', telefone='+55 (08) 5950-0131', perfil='dalton_santos45', estado='Estado: '),\n",
       " Usuario(foto='https://cloudflare-ipfs.com/ipfs/Qmd3W5DuhgHirLHGVixi6V76LhCkZUz6pnFt5AJBiyvHye/avatar/349.jpg', nome='Dalton Braga', profissao='Facilitador', email='dalton_braga0@example.org', telefone='+55 (17) 1804-0221', perfil='dalton.braga', estado='Estado: '),\n",
       " Usuario(foto='https://cloudflare-ipfs.com/ipfs/Qmd3W5DuhgHirLHGVixi6V76LhCkZUz6pnFt5AJBiyvHye/avatar/136.jpg', nome='Dalton Santos', profissao='Assistente', email='dalton_santos@example.com', telefone='(00) 18034-4275', perfil='dalton_santos56', estado='Estado: '),\n",
       " Usuario(foto='https://avatars.githubusercontent.com/u/51296995', nome='Dalton Martins', profissao='Representante', email='dalton.martins@example.net', telefone='(63) 3151-4326', perfil='dalton.martins95', estado='Estado: '),\n",
       " Usuario(foto='https://cloudflare-ipfs.com/ipfs/Qmd3W5DuhgHirLHGVixi6V76LhCkZUz6pnFt5AJBiyvHye/avatar/58.jpg', nome='Dalton Carvalho', profissao='Especialista', email='dalton_carvalho@example.net', telefone='+55 (03) 1370-3821', perfil='dalton_carvalho33', estado='Estado: '),\n",
       " Usuario(foto='https://avatars.githubusercontent.com/u/87031482', nome='Dalton Martins', profissao='Diretor', email='dalton.martins29@example.com', telefone='(70) 6653-7507', perfil='dalton.martins87', estado='Estado: '),\n",
       " Usuario(foto='https://avatars.githubusercontent.com/u/42157504', nome='Srta. Dalton Franco', profissao='Designer', email='dalton.franco56@example.net', telefone='(72) 81855-5573', perfil='dalton.franco', estado='Estado: '),\n",
       " Usuario(foto='https://cloudflare-ipfs.com/ipfs/Qmd3W5DuhgHirLHGVixi6V76LhCkZUz6pnFt5AJBiyvHye/avatar/1066.jpg', nome='Dalton Nogueira', profissao='Analista', email='dalton.nogueira@example.net', telefone='+55 (84) 0437-6012', perfil='dalton.nogueira', estado='Estado: '),\n",
       " Usuario(foto='https://cloudflare-ipfs.com/ipfs/Qmd3W5DuhgHirLHGVixi6V76LhCkZUz6pnFt5AJBiyvHye/avatar/254.jpg', nome='Dalton Melo', profissao='Técnico', email='dalton.melo34@example.com', telefone='+55 (63) 1839-5409', perfil='dalton_melo68', estado='Estado: '),\n",
       " Usuario(foto='https://avatars.githubusercontent.com/u/54371834', nome='Ana Albuquerque', profissao='Executivo', email='ana_albuquerque81@example.com', telefone='(55) 9099-8295', perfil='ana.albuquerque87', estado='Estado: '),\n",
       " Usuario(foto='https://cloudflare-ipfs.com/ipfs/Qmd3W5DuhgHirLHGVixi6V76LhCkZUz6pnFt5AJBiyvHye/avatar/1126.jpg', nome='Ana Melo', profissao='Executivo', email='ana.melo@example.org', telefone='(86) 82228-5212', perfil='ana.melo78', estado='Estado: '),\n",
       " Usuario(foto='https://cloudflare-ipfs.com/ipfs/Qmd3W5DuhgHirLHGVixi6V76LhCkZUz6pnFt5AJBiyvHye/avatar/224.jpg', nome='Ana Silva', profissao='Analista', email='ana.silva99@example.net', telefone='(26) 17116-0222', perfil='ana.silva13', estado='Estado: '),\n",
       " Usuario(foto='https://avatars.githubusercontent.com/u/25195324', nome='Ana Oliveira', profissao='Assistente', email='ana_oliveira@example.com', telefone='(49) 4673-8203', perfil='ana_oliveira', estado='Estado: '),\n",
       " Usuario(foto='https://cloudflare-ipfs.com/ipfs/Qmd3W5DuhgHirLHGVixi6V76LhCkZUz6pnFt5AJBiyvHye/avatar/74.jpg', nome='Ana Moreira', profissao='Consultor', email='ana_moreira44@example.net', telefone='+55 (43) 5454-4104', perfil='ana.moreira', estado='Estado: '),\n",
       " Usuario(foto='https://cloudflare-ipfs.com/ipfs/Qmd3W5DuhgHirLHGVixi6V76LhCkZUz6pnFt5AJBiyvHye/avatar/496.jpg', nome='Ana Pereira', profissao='Diretor', email='ana.pereira@example.net', telefone='+55 (44) 3587-6788', perfil='ana.pereira', estado='Estado: '),\n",
       " Usuario(foto='https://avatars.githubusercontent.com/u/96404328', nome='Ana Albuquerque', profissao='Estrategista', email='ana_albuquerque79@example.org', telefone='+55 (44) 8220-0280', perfil='ana.albuquerque42', estado='Estado: '),\n",
       " Usuario(foto='https://cloudflare-ipfs.com/ipfs/Qmd3W5DuhgHirLHGVixi6V76LhCkZUz6pnFt5AJBiyvHye/avatar/913.jpg', nome='Srta. Ana Moreira', profissao='Executivo', email='ana_moreira66@example.net', telefone='+55 (47) 8994-7264', perfil='ana.moreira', estado='Estado: '),\n",
       " Usuario(foto='https://cloudflare-ipfs.com/ipfs/Qmd3W5DuhgHirLHGVixi6V76LhCkZUz6pnFt5AJBiyvHye/avatar/790.jpg', nome='Ana Batista', profissao='Diretor', email='ana_batista@example.org', telefone='(47) 26005-6661', perfil='ana.batista', estado='Estado: '),\n",
       " Usuario(foto='https://cloudflare-ipfs.com/ipfs/Qmd3W5DuhgHirLHGVixi6V76LhCkZUz6pnFt5AJBiyvHye/avatar/6.jpg', nome='Ana Nogueira', profissao='Técnico', email='ana.nogueira@example.com', telefone='(03) 97311-0559', perfil='ana.nogueira93', estado='Estado: '),\n",
       " Usuario(foto='https://avatars.githubusercontent.com/u/72637808', nome='Maria Macedo', profissao='Técnico', email='maria.macedo@example.com', telefone='(14) 3591-6152', perfil='maria.macedo73', estado='Estado: '),\n",
       " Usuario(foto='https://avatars.githubusercontent.com/u/75671474', nome='Maria Macedo Jr.', profissao='Policial', email='maria.macedo83@example.net', telefone='+55 (89) 1473-7164', perfil='maria_macedo69', estado='Estado: '),\n",
       " Usuario(foto='https://avatars.githubusercontent.com/u/18090169', nome='Maria Reis', profissao='Representante', email='maria.reis@example.org', telefone='(65) 2791-6236', perfil='maria_reis3', estado='Estado: '),\n",
       " Usuario(foto='https://cloudflare-ipfs.com/ipfs/Qmd3W5DuhgHirLHGVixi6V76LhCkZUz6pnFt5AJBiyvHye/avatar/284.jpg', nome='Srta. Maria Braga', profissao='Analista', email='maria_braga4@example.org', telefone='+55 (24) 8812-2688', perfil='maria_braga43', estado='Estado: '),\n",
       " Usuario(foto='https://cloudflare-ipfs.com/ipfs/Qmd3W5DuhgHirLHGVixi6V76LhCkZUz6pnFt5AJBiyvHye/avatar/438.jpg', nome='Maria Batista Jr.', profissao='Técnico', email='maria.batista32@example.com', telefone='+55 (28) 4025-0281', perfil='maria_batista4', estado='Estado: '),\n",
       " Usuario(foto='https://avatars.githubusercontent.com/u/62651596', nome='Maria Braga', profissao='Técnico', email='maria.braga53@example.org', telefone='+55 (92) 6052-8842', perfil='maria.braga', estado='Estado: '),\n",
       " Usuario(foto='https://avatars.githubusercontent.com/u/21501538', nome='Maria Pereira', profissao='Policial', email='maria_pereira25@example.com', telefone='(40) 8743-3437', perfil='maria.pereira', estado='Estado: '),\n",
       " Usuario(foto='https://avatars.githubusercontent.com/u/91390016', nome='Maria Costa', profissao='Coordenador', email='maria.costa12@example.com', telefone='+55 (76) 8397-8890', perfil='maria_costa', estado='Estado: '),\n",
       " Usuario(foto='https://cloudflare-ipfs.com/ipfs/Qmd3W5DuhgHirLHGVixi6V76LhCkZUz6pnFt5AJBiyvHye/avatar/640.jpg', nome='Dr. Maria Costa', profissao='Designer', email='maria_costa76@example.net', telefone='(94) 00510-3667', perfil='maria_costa13', estado='Estado: '),\n",
       " Usuario(foto='https://cloudflare-ipfs.com/ipfs/Qmd3W5DuhgHirLHGVixi6V76LhCkZUz6pnFt5AJBiyvHye/avatar/889.jpg', nome='Maria Batista', profissao='Técnico', email='maria.batista6@example.net', telefone='(44) 29082-2501', perfil='maria.batista99', estado='Estado: '),\n",
       " Usuario(foto='https://avatars.githubusercontent.com/u/66016756', nome='João Pereira', profissao='Desenvolvedor', email='joao.pereira99@example.com', telefone='(53) 45765-8195', perfil='joao.pereira26', estado='Estado: '),\n",
       " Usuario(foto='https://cloudflare-ipfs.com/ipfs/Qmd3W5DuhgHirLHGVixi6V76LhCkZUz6pnFt5AJBiyvHye/avatar/362.jpg', nome='João Nogueira', profissao='Estrategista', email='joao_nogueira1@example.org', telefone='(55) 45076-0012', perfil='joao.nogueira', estado='Estado: '),\n",
       " Usuario(foto='https://cloudflare-ipfs.com/ipfs/Qmd3W5DuhgHirLHGVixi6V76LhCkZUz6pnFt5AJBiyvHye/avatar/781.jpg', nome='João Melo', profissao='Consultor', email='joao.melo@example.com', telefone='(62) 05659-9838', perfil='joao_melo', estado='Estado: '),\n",
       " Usuario(foto='https://avatars.githubusercontent.com/u/2350724', nome='João Saraiva', profissao='Administrador', email='joao.saraiva20@example.com', telefone='+55 (75) 7150-5289', perfil='joao.saraiva88', estado='Estado: '),\n",
       " Usuario(foto='https://avatars.githubusercontent.com/u/95178786', nome='João Oliveira', profissao='Assistente', email='joao.oliveira15@example.org', telefone='+55 (39) 9351-0695', perfil='joao_oliveira38', estado='Estado: '),\n",
       " Usuario(foto='https://cloudflare-ipfs.com/ipfs/Qmd3W5DuhgHirLHGVixi6V76LhCkZUz6pnFt5AJBiyvHye/avatar/884.jpg', nome='João Braga', profissao='Diretor', email='joao_braga89@example.com', telefone='+55 (50) 0030-5170', perfil='joao.braga0', estado='Estado: '),\n",
       " Usuario(foto='https://avatars.githubusercontent.com/u/67996433', nome='João Silva', profissao='Orquestrador', email='joao.silva@example.org', telefone='(70) 19924-8566', perfil='joao_silva8', estado='Estado: '),\n",
       " Usuario(foto='https://avatars.githubusercontent.com/u/61210459', nome='João Saraiva', profissao='Gerente', email='joao.saraiva48@example.com', telefone='(41) 4307-3943', perfil='joao.saraiva', estado='Estado: '),\n",
       " Usuario(foto='https://cloudflare-ipfs.com/ipfs/Qmd3W5DuhgHirLHGVixi6V76LhCkZUz6pnFt5AJBiyvHye/avatar/536.jpg', nome='João Barros', profissao='Executivo', email='joao_barros90@example.org', telefone='(24) 78054-8637', perfil='joao.barros', estado='Estado: '),\n",
       " Usuario(foto='https://cloudflare-ipfs.com/ipfs/Qmd3W5DuhgHirLHGVixi6V76LhCkZUz6pnFt5AJBiyvHye/avatar/42.jpg', nome='Srta. João Barros', profissao='Consultor', email='joao.barros23@example.org', telefone='+55 (92) 8219-1729', perfil='joao_barros6', estado='Estado: '),\n",
       " Usuario(foto='https://avatars.githubusercontent.com/u/93332446', nome='Sra. Leonardo Pereira', profissao='Policial', email='leonardo.pereira@example.net', telefone='(95) 56969-8206', perfil='leonardo_pereira18', estado='Estado: '),\n",
       " Usuario(foto='https://avatars.githubusercontent.com/u/82449221', nome='Leonardo Franco', profissao='Analista', email='leonardo_franco@example.org', telefone='+55 (36) 9622-2245', perfil='leonardo_franco86', estado='Estado: '),\n",
       " Usuario(foto='https://cloudflare-ipfs.com/ipfs/Qmd3W5DuhgHirLHGVixi6V76LhCkZUz6pnFt5AJBiyvHye/avatar/1231.jpg', nome='Leonardo Martins', profissao='Designer', email='leonardo.martins@example.com', telefone='+55 (71) 4977-0968', perfil='leonardo_martins44', estado='Estado: '),\n",
       " Usuario(foto='https://cloudflare-ipfs.com/ipfs/Qmd3W5DuhgHirLHGVixi6V76LhCkZUz6pnFt5AJBiyvHye/avatar/79.jpg', nome='Leonardo Melo', profissao='Gerente', email='leonardo_melo@example.com', telefone='(29) 89629-3963', perfil='leonardo.melo', estado='Estado: '),\n",
       " Usuario(foto='https://cloudflare-ipfs.com/ipfs/Qmd3W5DuhgHirLHGVixi6V76LhCkZUz6pnFt5AJBiyvHye/avatar/1036.jpg', nome='Leonardo Nogueira', profissao='Assistente', email='leonardo.nogueira66@example.net', telefone='(10) 24347-2043', perfil='leonardo.nogueira', estado='Estado: '),\n",
       " Usuario(foto='https://avatars.githubusercontent.com/u/81891480', nome='Leonardo Franco', profissao='Arquiteto', email='leonardo_franco47@example.net', telefone='+55 (91) 5656-1723', perfil='leonardo.franco', estado='Estado: '),\n",
       " Usuario(foto='https://cloudflare-ipfs.com/ipfs/Qmd3W5DuhgHirLHGVixi6V76LhCkZUz6pnFt5AJBiyvHye/avatar/923.jpg', nome='Leonardo Silva', profissao='Gerente', email='leonardo.silva@example.org', telefone='(47) 90712-0149', perfil='leonardo.silva75', estado='Estado: '),\n",
       " Usuario(foto='https://avatars.githubusercontent.com/u/95668274', nome='Leonardo Macedo', profissao='Associado', email='leonardo.macedo24@example.org', telefone='(48) 7657-1142', perfil='leonardo.macedo', estado='Estado: '),\n",
       " Usuario(foto='https://avatars.githubusercontent.com/u/29267656', nome='Leonardo Batista', profissao='Agente', email='leonardo.batista@example.com', telefone='(68) 1327-0350', perfil='leonardo.batista57', estado='Estado: '),\n",
       " Usuario(foto='https://avatars.githubusercontent.com/u/19487934', nome='Leonardo Souza', profissao='Desenvolvedor', email='leonardo_souza@example.net', telefone='+55 (15) 1958-3353', perfil='leonardo_souza6', estado='Estado: '),\n",
       " Usuario(foto='https://avatars.githubusercontent.com/u/10056639', nome='Talita Macedo Filho', profissao='Diretor', email='talita_macedo97@example.com', telefone='(87) 28142-8482', perfil='talita_macedo', estado='Estado: '),\n",
       " Usuario(foto='https://avatars.githubusercontent.com/u/36140379', nome='Talita Santos Neto', profissao='Designer', email='talita_santos@example.com', telefone='(61) 97344-3823', perfil='talita.santos5', estado='Estado: '),\n",
       " Usuario(foto='https://avatars.githubusercontent.com/u/13646237', nome='Talita Reis', profissao='Produtor', email='talita_reis90@example.com', telefone='+55 (59) 5083-3431', perfil='talita_reis', estado='Estado: '),\n",
       " Usuario(foto='https://cloudflare-ipfs.com/ipfs/Qmd3W5DuhgHirLHGVixi6V76LhCkZUz6pnFt5AJBiyvHye/avatar/904.jpg', nome='Talita Macedo', profissao='Planejador', email='talita_macedo47@example.org', telefone='(64) 84628-7541', perfil='talita_macedo', estado='Estado: '),\n",
       " Usuario(foto='https://avatars.githubusercontent.com/u/18482542', nome='Talita Costa Neto', profissao='Analista', email='talita.costa@example.com', telefone='+55 (16) 2248-8919', perfil='talita.costa', estado='Estado: '),\n",
       " Usuario(foto='https://avatars.githubusercontent.com/u/58767873', nome='Talita Braga', profissao='Administrador', email='talita_braga@example.org', telefone='(66) 28243-1220', perfil='talita.braga', estado='Estado: '),\n",
       " Usuario(foto='https://cloudflare-ipfs.com/ipfs/Qmd3W5DuhgHirLHGVixi6V76LhCkZUz6pnFt5AJBiyvHye/avatar/26.jpg', nome='Talita Braga', profissao='Analista', email='talita_braga98@example.org', telefone='+55 (20) 0176-1971', perfil='talita.braga', estado='Estado: '),\n",
       " Usuario(foto='https://cloudflare-ipfs.com/ipfs/Qmd3W5DuhgHirLHGVixi6V76LhCkZUz6pnFt5AJBiyvHye/avatar/614.jpg', nome='Talita Pereira', profissao='Orquestrador', email='talita.pereira95@example.net', telefone='+55 (64) 2339-5535', perfil='talita.pereira', estado='Estado: '),\n",
       " Usuario(foto='https://avatars.githubusercontent.com/u/84185178', nome='Talita Silva', profissao='Coordenador', email='talita.silva88@example.net', telefone='(15) 47153-7170', perfil='talita_silva', estado='Estado: '),\n",
       " Usuario(foto='https://avatars.githubusercontent.com/u/10203367', nome='Talita Martins', profissao='Arquiteto', email='talita_martins96@example.com', telefone='(06) 14450-8741', perfil='talita_martins44', estado='Estado: '),\n",
       " Usuario(foto='https://avatars.githubusercontent.com/u/86639050', nome='Rafael Santos', profissao='Planejador', email='rafael_santos10@example.com', telefone='+55 (64) 2607-6972', perfil='rafael.santos', estado='Estado: '),\n",
       " Usuario(foto='https://avatars.githubusercontent.com/u/52434163', nome='Rafael Pereira', profissao='Representante', email='rafael_pereira85@example.com', telefone='(90) 01236-6522', perfil='rafael_pereira', estado='Estado: '),\n",
       " Usuario(foto='https://cloudflare-ipfs.com/ipfs/Qmd3W5DuhgHirLHGVixi6V76LhCkZUz6pnFt5AJBiyvHye/avatar/1071.jpg', nome='Rafael Pereira', profissao='Assistente', email='rafael.pereira@example.org', telefone='(82) 09621-2074', perfil='rafael_pereira', estado='Estado: '),\n",
       " Usuario(foto='https://cloudflare-ipfs.com/ipfs/Qmd3W5DuhgHirLHGVixi6V76LhCkZUz6pnFt5AJBiyvHye/avatar/317.jpg', nome='Rafael Franco', profissao='Executivo', email='rafael.franco@example.com', telefone='+55 (40) 9592-7002', perfil='rafael.franco', estado='Estado: '),\n",
       " Usuario(foto='https://cloudflare-ipfs.com/ipfs/Qmd3W5DuhgHirLHGVixi6V76LhCkZUz6pnFt5AJBiyvHye/avatar/835.jpg', nome='Rafael Carvalho', profissao='Assistente', email='rafael_carvalho56@example.com', telefone='+55 (78) 6119-3038', perfil='rafael_carvalho47', estado='Estado: '),\n",
       " Usuario(foto='https://cloudflare-ipfs.com/ipfs/Qmd3W5DuhgHirLHGVixi6V76LhCkZUz6pnFt5AJBiyvHye/avatar/1114.jpg', nome='Rafael Braga', profissao='Arquiteto', email='rafael_braga87@example.com', telefone='(44) 6603-8749', perfil='rafael.braga21', estado='Estado: '),\n",
       " Usuario(foto='https://avatars.githubusercontent.com/u/34766509', nome='Rafael Albuquerque Jr.', profissao='Atentende', email='rafael.albuquerque@example.com', telefone='(14) 26638-7746', perfil='rafael.albuquerque91', estado='Estado: '),\n",
       " Usuario(foto='https://cloudflare-ipfs.com/ipfs/Qmd3W5DuhgHirLHGVixi6V76LhCkZUz6pnFt5AJBiyvHye/avatar/57.jpg', nome='Rafael Martins', profissao='Orquestrador', email='rafael_martins@example.org', telefone='(22) 79740-2731', perfil='rafael.martins59', estado='Estado: '),\n",
       " Usuario(foto='https://cloudflare-ipfs.com/ipfs/Qmd3W5DuhgHirLHGVixi6V76LhCkZUz6pnFt5AJBiyvHye/avatar/585.jpg', nome='Rafael Saraiva', profissao='Desenvolvedor', email='rafael_saraiva82@example.com', telefone='(84) 7694-4012', perfil='rafael_saraiva', estado='Estado: '),\n",
       " Usuario(foto='https://avatars.githubusercontent.com/u/31976708', nome='Rafael Santos', profissao='Supervisor', email='rafael_santos@example.org', telefone='(80) 8423-1903', perfil='rafael_santos', estado='Estado: ')]"
      ]
     },
     "execution_count": 14,
     "metadata": {},
     "output_type": "execute_result"
    }
   ],
   "source": [
    "data"
   ]
  }
 ],
 "metadata": {
  "kernelspec": {
   "display_name": "venv",
   "language": "python",
   "name": "python3"
  },
  "language_info": {
   "codemirror_mode": {
    "name": "ipython",
    "version": 3
   },
   "file_extension": ".py",
   "mimetype": "text/x-python",
   "name": "python",
   "nbconvert_exporter": "python",
   "pygments_lexer": "ipython3",
   "version": "3.11.2"
  }
 },
 "nbformat": 4,
 "nbformat_minor": 2
}
